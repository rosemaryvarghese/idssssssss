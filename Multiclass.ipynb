{
  "cells": [
    {
      "cell_type": "code",
      "execution_count": null,
      "metadata": {
        "id": "awi-OoQCaU8d"
      },
      "outputs": [],
      "source": [
        "#Importing necessary dependencies\n",
        "import numpy as np\n",
        "import pandas as pd\n",
        "import sklearn.metrics\n",
        "import sklearn.model_selection\n",
        "import sklearn.linear_model\n",
        "import sklearn.preprocessing\n",
        "import matplotlib.pyplot as plt\n",
        "import tensorflow as tf\n",
        "from tensorflow.keras import optimizers\n",
        "from tensorflow.keras.models import Model, load_model, Sequential\n",
        "from tensorflow.keras.layers import Input, Dense, Dropout, AlphaDropout\n",
        "from tensorflow.keras.callbacks import ModelCheckpoint, TensorBoard\n",
        "from sklearn.model_selection import train_test_split\n",
        "from sklearn.metrics import confusion_matrix, precision_recall_curve\n",
        "from sklearn.metrics import recall_score, classification_report, auc, roc_curve\n",
        "from sklearn.metrics import precision_recall_fscore_support, f1_score\n",
        "from sklearn.preprocessing import OneHotEncoder\n",
        "from sklearn.preprocessing import MinMaxScaler\n",
        "from sklearn.preprocessing import LabelEncoder\n",
        "from sklearn import preprocessing\n",
        "from sklearn.ensemble import GradientBoostingClassifier\n",
        "from sklearn.linear_model import LogisticRegression\n",
        "from sklearn.metrics import accuracy_score\n",
        "from sklearn.model_selection import GridSearchCV\n",
        "from numpy import dstack\n",
        "from sklearn.feature_selection import SelectKBest\n",
        "from sklearn.feature_selection import f_classif"
      ]
    },
    {
      "cell_type": "code",
      "execution_count": null,
      "metadata": {
        "colab": {
          "base_uri": "https://localhost:8080/"
        },
        "id": "SgdleyyHnWy7",
        "outputId": "248250eb-f663-4263-b4e7-69431a233c39"
      },
      "outputs": [
        {
          "output_type": "stream",
          "name": "stdout",
          "text": [
            "Mounted at /content/drive\n"
          ]
        }
      ],
      "source": [
        "from google.colab import drive\n",
        "drive.mount('/content/drive')"
      ]
    },
    {
      "cell_type": "code",
      "execution_count": null,
      "metadata": {
        "id": "WTTUHn01bvtf"
      },
      "outputs": [],
      "source": [
        "#Loading dataset\n",
        "d1 = pd.read_csv('/content/drive/MyDrive/datsets/unsw_nb15/UNSW_NB15_testing-set.csv')\n",
        "t1 = pd.read_csv('/content/drive/MyDrive/datsets/unsw_nb15/UNSW_NB15_training-set.csv')"
      ]
    },
    {
      "cell_type": "code",
      "execution_count": null,
      "metadata": {
        "id": "RNFIacQfbzoK"
      },
      "outputs": [],
      "source": [
        "data = d1.append(t1)"
      ]
    },
    {
      "cell_type": "code",
      "execution_count": null,
      "metadata": {
        "colab": {
          "base_uri": "https://localhost:8080/",
          "height": 394
        },
        "id": "Q80t3Y2Sb4YI",
        "outputId": "63955fca-65da-4f1a-fbde-fe00c5335196"
      },
      "outputs": [
        {
          "output_type": "execute_result",
          "data": {
            "text/plain": [
              "                  id            dur          spkts          dpkts  \\\n",
              "count  257673.000000  257673.000000  257673.000000  257673.000000   \n",
              "mean    72811.823858       1.246715      19.777144      18.514703   \n",
              "std     48929.917641       5.974305     135.947152     111.985965   \n",
              "min         1.000000       0.000000       1.000000       0.000000   \n",
              "25%     32210.000000       0.000008       2.000000       0.000000   \n",
              "50%     64419.000000       0.004285       4.000000       2.000000   \n",
              "75%    110923.000000       0.685777      12.000000      10.000000   \n",
              "max    175341.000000      59.999989   10646.000000   11018.000000   \n",
              "\n",
              "             sbytes        dbytes          rate           sttl           dttl  \\\n",
              "count  2.576730e+05  2.576730e+05  2.576730e+05  257673.000000  257673.000000   \n",
              "mean   8.572952e+03  1.438729e+04  9.125391e+04     180.000931      84.754957   \n",
              "std    1.737739e+05  1.461993e+05  1.603446e+05     102.488268     112.762131   \n",
              "min    2.400000e+01  0.000000e+00  0.000000e+00       0.000000       0.000000   \n",
              "25%    1.140000e+02  0.000000e+00  3.078928e+01      62.000000       0.000000   \n",
              "50%    5.280000e+02  1.780000e+02  2.955665e+03     254.000000      29.000000   \n",
              "75%    1.362000e+03  1.064000e+03  1.250000e+05     254.000000     252.000000   \n",
              "max    1.435577e+07  1.465753e+07  1.000000e+06     255.000000     254.000000   \n",
              "\n",
              "              sload  ...  ct_src_dport_ltm  ct_dst_sport_ltm  ct_dst_src_ltm  \\\n",
              "count  2.576730e+05  ...     257673.000000     257673.000000   257673.000000   \n",
              "mean   7.060869e+07  ...          5.238271          4.032677        8.322964   \n",
              "std    1.857313e+08  ...          8.160822          5.831515       11.120754   \n",
              "min    0.000000e+00  ...          1.000000          1.000000        1.000000   \n",
              "25%    1.231800e+04  ...          1.000000          1.000000        1.000000   \n",
              "50%    7.439423e+05  ...          1.000000          1.000000        3.000000   \n",
              "75%    8.000000e+07  ...          4.000000          3.000000        8.000000   \n",
              "max    5.988000e+09  ...         59.000000         46.000000       65.000000   \n",
              "\n",
              "        is_ftp_login     ct_ftp_cmd  ct_flw_http_mthd     ct_src_ltm  \\\n",
              "count  257673.000000  257673.000000     257673.000000  257673.000000   \n",
              "mean        0.012819       0.012850          0.132005       6.800045   \n",
              "std         0.116091       0.116421          0.681854       8.396266   \n",
              "min         0.000000       0.000000          0.000000       1.000000   \n",
              "25%         0.000000       0.000000          0.000000       2.000000   \n",
              "50%         0.000000       0.000000          0.000000       3.000000   \n",
              "75%         0.000000       0.000000          0.000000       8.000000   \n",
              "max         4.000000       4.000000         30.000000      60.000000   \n",
              "\n",
              "          ct_srv_dst  is_sm_ips_ports          label  \n",
              "count  257673.000000    257673.000000  257673.000000  \n",
              "mean        9.121049         0.014274       0.639077  \n",
              "std        10.874752         0.118618       0.480269  \n",
              "min         1.000000         0.000000       0.000000  \n",
              "25%         2.000000         0.000000       0.000000  \n",
              "50%         4.000000         0.000000       1.000000  \n",
              "75%        11.000000         0.000000       1.000000  \n",
              "max        62.000000         1.000000       1.000000  \n",
              "\n",
              "[8 rows x 41 columns]"
            ],
            "text/html": [
              "\n",
              "  <div id=\"df-abe32072-567f-471c-9d31-7e11e4dfddab\">\n",
              "    <div class=\"colab-df-container\">\n",
              "      <div>\n",
              "<style scoped>\n",
              "    .dataframe tbody tr th:only-of-type {\n",
              "        vertical-align: middle;\n",
              "    }\n",
              "\n",
              "    .dataframe tbody tr th {\n",
              "        vertical-align: top;\n",
              "    }\n",
              "\n",
              "    .dataframe thead th {\n",
              "        text-align: right;\n",
              "    }\n",
              "</style>\n",
              "<table border=\"1\" class=\"dataframe\">\n",
              "  <thead>\n",
              "    <tr style=\"text-align: right;\">\n",
              "      <th></th>\n",
              "      <th>id</th>\n",
              "      <th>dur</th>\n",
              "      <th>spkts</th>\n",
              "      <th>dpkts</th>\n",
              "      <th>sbytes</th>\n",
              "      <th>dbytes</th>\n",
              "      <th>rate</th>\n",
              "      <th>sttl</th>\n",
              "      <th>dttl</th>\n",
              "      <th>sload</th>\n",
              "      <th>...</th>\n",
              "      <th>ct_src_dport_ltm</th>\n",
              "      <th>ct_dst_sport_ltm</th>\n",
              "      <th>ct_dst_src_ltm</th>\n",
              "      <th>is_ftp_login</th>\n",
              "      <th>ct_ftp_cmd</th>\n",
              "      <th>ct_flw_http_mthd</th>\n",
              "      <th>ct_src_ltm</th>\n",
              "      <th>ct_srv_dst</th>\n",
              "      <th>is_sm_ips_ports</th>\n",
              "      <th>label</th>\n",
              "    </tr>\n",
              "  </thead>\n",
              "  <tbody>\n",
              "    <tr>\n",
              "      <th>count</th>\n",
              "      <td>257673.000000</td>\n",
              "      <td>257673.000000</td>\n",
              "      <td>257673.000000</td>\n",
              "      <td>257673.000000</td>\n",
              "      <td>2.576730e+05</td>\n",
              "      <td>2.576730e+05</td>\n",
              "      <td>2.576730e+05</td>\n",
              "      <td>257673.000000</td>\n",
              "      <td>257673.000000</td>\n",
              "      <td>2.576730e+05</td>\n",
              "      <td>...</td>\n",
              "      <td>257673.000000</td>\n",
              "      <td>257673.000000</td>\n",
              "      <td>257673.000000</td>\n",
              "      <td>257673.000000</td>\n",
              "      <td>257673.000000</td>\n",
              "      <td>257673.000000</td>\n",
              "      <td>257673.000000</td>\n",
              "      <td>257673.000000</td>\n",
              "      <td>257673.000000</td>\n",
              "      <td>257673.000000</td>\n",
              "    </tr>\n",
              "    <tr>\n",
              "      <th>mean</th>\n",
              "      <td>72811.823858</td>\n",
              "      <td>1.246715</td>\n",
              "      <td>19.777144</td>\n",
              "      <td>18.514703</td>\n",
              "      <td>8.572952e+03</td>\n",
              "      <td>1.438729e+04</td>\n",
              "      <td>9.125391e+04</td>\n",
              "      <td>180.000931</td>\n",
              "      <td>84.754957</td>\n",
              "      <td>7.060869e+07</td>\n",
              "      <td>...</td>\n",
              "      <td>5.238271</td>\n",
              "      <td>4.032677</td>\n",
              "      <td>8.322964</td>\n",
              "      <td>0.012819</td>\n",
              "      <td>0.012850</td>\n",
              "      <td>0.132005</td>\n",
              "      <td>6.800045</td>\n",
              "      <td>9.121049</td>\n",
              "      <td>0.014274</td>\n",
              "      <td>0.639077</td>\n",
              "    </tr>\n",
              "    <tr>\n",
              "      <th>std</th>\n",
              "      <td>48929.917641</td>\n",
              "      <td>5.974305</td>\n",
              "      <td>135.947152</td>\n",
              "      <td>111.985965</td>\n",
              "      <td>1.737739e+05</td>\n",
              "      <td>1.461993e+05</td>\n",
              "      <td>1.603446e+05</td>\n",
              "      <td>102.488268</td>\n",
              "      <td>112.762131</td>\n",
              "      <td>1.857313e+08</td>\n",
              "      <td>...</td>\n",
              "      <td>8.160822</td>\n",
              "      <td>5.831515</td>\n",
              "      <td>11.120754</td>\n",
              "      <td>0.116091</td>\n",
              "      <td>0.116421</td>\n",
              "      <td>0.681854</td>\n",
              "      <td>8.396266</td>\n",
              "      <td>10.874752</td>\n",
              "      <td>0.118618</td>\n",
              "      <td>0.480269</td>\n",
              "    </tr>\n",
              "    <tr>\n",
              "      <th>min</th>\n",
              "      <td>1.000000</td>\n",
              "      <td>0.000000</td>\n",
              "      <td>1.000000</td>\n",
              "      <td>0.000000</td>\n",
              "      <td>2.400000e+01</td>\n",
              "      <td>0.000000e+00</td>\n",
              "      <td>0.000000e+00</td>\n",
              "      <td>0.000000</td>\n",
              "      <td>0.000000</td>\n",
              "      <td>0.000000e+00</td>\n",
              "      <td>...</td>\n",
              "      <td>1.000000</td>\n",
              "      <td>1.000000</td>\n",
              "      <td>1.000000</td>\n",
              "      <td>0.000000</td>\n",
              "      <td>0.000000</td>\n",
              "      <td>0.000000</td>\n",
              "      <td>1.000000</td>\n",
              "      <td>1.000000</td>\n",
              "      <td>0.000000</td>\n",
              "      <td>0.000000</td>\n",
              "    </tr>\n",
              "    <tr>\n",
              "      <th>25%</th>\n",
              "      <td>32210.000000</td>\n",
              "      <td>0.000008</td>\n",
              "      <td>2.000000</td>\n",
              "      <td>0.000000</td>\n",
              "      <td>1.140000e+02</td>\n",
              "      <td>0.000000e+00</td>\n",
              "      <td>3.078928e+01</td>\n",
              "      <td>62.000000</td>\n",
              "      <td>0.000000</td>\n",
              "      <td>1.231800e+04</td>\n",
              "      <td>...</td>\n",
              "      <td>1.000000</td>\n",
              "      <td>1.000000</td>\n",
              "      <td>1.000000</td>\n",
              "      <td>0.000000</td>\n",
              "      <td>0.000000</td>\n",
              "      <td>0.000000</td>\n",
              "      <td>2.000000</td>\n",
              "      <td>2.000000</td>\n",
              "      <td>0.000000</td>\n",
              "      <td>0.000000</td>\n",
              "    </tr>\n",
              "    <tr>\n",
              "      <th>50%</th>\n",
              "      <td>64419.000000</td>\n",
              "      <td>0.004285</td>\n",
              "      <td>4.000000</td>\n",
              "      <td>2.000000</td>\n",
              "      <td>5.280000e+02</td>\n",
              "      <td>1.780000e+02</td>\n",
              "      <td>2.955665e+03</td>\n",
              "      <td>254.000000</td>\n",
              "      <td>29.000000</td>\n",
              "      <td>7.439423e+05</td>\n",
              "      <td>...</td>\n",
              "      <td>1.000000</td>\n",
              "      <td>1.000000</td>\n",
              "      <td>3.000000</td>\n",
              "      <td>0.000000</td>\n",
              "      <td>0.000000</td>\n",
              "      <td>0.000000</td>\n",
              "      <td>3.000000</td>\n",
              "      <td>4.000000</td>\n",
              "      <td>0.000000</td>\n",
              "      <td>1.000000</td>\n",
              "    </tr>\n",
              "    <tr>\n",
              "      <th>75%</th>\n",
              "      <td>110923.000000</td>\n",
              "      <td>0.685777</td>\n",
              "      <td>12.000000</td>\n",
              "      <td>10.000000</td>\n",
              "      <td>1.362000e+03</td>\n",
              "      <td>1.064000e+03</td>\n",
              "      <td>1.250000e+05</td>\n",
              "      <td>254.000000</td>\n",
              "      <td>252.000000</td>\n",
              "      <td>8.000000e+07</td>\n",
              "      <td>...</td>\n",
              "      <td>4.000000</td>\n",
              "      <td>3.000000</td>\n",
              "      <td>8.000000</td>\n",
              "      <td>0.000000</td>\n",
              "      <td>0.000000</td>\n",
              "      <td>0.000000</td>\n",
              "      <td>8.000000</td>\n",
              "      <td>11.000000</td>\n",
              "      <td>0.000000</td>\n",
              "      <td>1.000000</td>\n",
              "    </tr>\n",
              "    <tr>\n",
              "      <th>max</th>\n",
              "      <td>175341.000000</td>\n",
              "      <td>59.999989</td>\n",
              "      <td>10646.000000</td>\n",
              "      <td>11018.000000</td>\n",
              "      <td>1.435577e+07</td>\n",
              "      <td>1.465753e+07</td>\n",
              "      <td>1.000000e+06</td>\n",
              "      <td>255.000000</td>\n",
              "      <td>254.000000</td>\n",
              "      <td>5.988000e+09</td>\n",
              "      <td>...</td>\n",
              "      <td>59.000000</td>\n",
              "      <td>46.000000</td>\n",
              "      <td>65.000000</td>\n",
              "      <td>4.000000</td>\n",
              "      <td>4.000000</td>\n",
              "      <td>30.000000</td>\n",
              "      <td>60.000000</td>\n",
              "      <td>62.000000</td>\n",
              "      <td>1.000000</td>\n",
              "      <td>1.000000</td>\n",
              "    </tr>\n",
              "  </tbody>\n",
              "</table>\n",
              "<p>8 rows × 41 columns</p>\n",
              "</div>\n",
              "      <button class=\"colab-df-convert\" onclick=\"convertToInteractive('df-abe32072-567f-471c-9d31-7e11e4dfddab')\"\n",
              "              title=\"Convert this dataframe to an interactive table.\"\n",
              "              style=\"display:none;\">\n",
              "        \n",
              "  <svg xmlns=\"http://www.w3.org/2000/svg\" height=\"24px\"viewBox=\"0 0 24 24\"\n",
              "       width=\"24px\">\n",
              "    <path d=\"M0 0h24v24H0V0z\" fill=\"none\"/>\n",
              "    <path d=\"M18.56 5.44l.94 2.06.94-2.06 2.06-.94-2.06-.94-.94-2.06-.94 2.06-2.06.94zm-11 1L8.5 8.5l.94-2.06 2.06-.94-2.06-.94L8.5 2.5l-.94 2.06-2.06.94zm10 10l.94 2.06.94-2.06 2.06-.94-2.06-.94-.94-2.06-.94 2.06-2.06.94z\"/><path d=\"M17.41 7.96l-1.37-1.37c-.4-.4-.92-.59-1.43-.59-.52 0-1.04.2-1.43.59L10.3 9.45l-7.72 7.72c-.78.78-.78 2.05 0 2.83L4 21.41c.39.39.9.59 1.41.59.51 0 1.02-.2 1.41-.59l7.78-7.78 2.81-2.81c.8-.78.8-2.07 0-2.86zM5.41 20L4 18.59l7.72-7.72 1.47 1.35L5.41 20z\"/>\n",
              "  </svg>\n",
              "      </button>\n",
              "      \n",
              "  <style>\n",
              "    .colab-df-container {\n",
              "      display:flex;\n",
              "      flex-wrap:wrap;\n",
              "      gap: 12px;\n",
              "    }\n",
              "\n",
              "    .colab-df-convert {\n",
              "      background-color: #E8F0FE;\n",
              "      border: none;\n",
              "      border-radius: 50%;\n",
              "      cursor: pointer;\n",
              "      display: none;\n",
              "      fill: #1967D2;\n",
              "      height: 32px;\n",
              "      padding: 0 0 0 0;\n",
              "      width: 32px;\n",
              "    }\n",
              "\n",
              "    .colab-df-convert:hover {\n",
              "      background-color: #E2EBFA;\n",
              "      box-shadow: 0px 1px 2px rgba(60, 64, 67, 0.3), 0px 1px 3px 1px rgba(60, 64, 67, 0.15);\n",
              "      fill: #174EA6;\n",
              "    }\n",
              "\n",
              "    [theme=dark] .colab-df-convert {\n",
              "      background-color: #3B4455;\n",
              "      fill: #D2E3FC;\n",
              "    }\n",
              "\n",
              "    [theme=dark] .colab-df-convert:hover {\n",
              "      background-color: #434B5C;\n",
              "      box-shadow: 0px 1px 3px 1px rgba(0, 0, 0, 0.15);\n",
              "      filter: drop-shadow(0px 1px 2px rgba(0, 0, 0, 0.3));\n",
              "      fill: #FFFFFF;\n",
              "    }\n",
              "  </style>\n",
              "\n",
              "      <script>\n",
              "        const buttonEl =\n",
              "          document.querySelector('#df-abe32072-567f-471c-9d31-7e11e4dfddab button.colab-df-convert');\n",
              "        buttonEl.style.display =\n",
              "          google.colab.kernel.accessAllowed ? 'block' : 'none';\n",
              "\n",
              "        async function convertToInteractive(key) {\n",
              "          const element = document.querySelector('#df-abe32072-567f-471c-9d31-7e11e4dfddab');\n",
              "          const dataTable =\n",
              "            await google.colab.kernel.invokeFunction('convertToInteractive',\n",
              "                                                     [key], {});\n",
              "          if (!dataTable) return;\n",
              "\n",
              "          const docLinkHtml = 'Like what you see? Visit the ' +\n",
              "            '<a target=\"_blank\" href=https://colab.research.google.com/notebooks/data_table.ipynb>data table notebook</a>'\n",
              "            + ' to learn more about interactive tables.';\n",
              "          element.innerHTML = '';\n",
              "          dataTable['output_type'] = 'display_data';\n",
              "          await google.colab.output.renderOutput(dataTable, element);\n",
              "          const docLink = document.createElement('div');\n",
              "          docLink.innerHTML = docLinkHtml;\n",
              "          element.appendChild(docLink);\n",
              "        }\n",
              "      </script>\n",
              "    </div>\n",
              "  </div>\n",
              "  "
            ]
          },
          "metadata": {},
          "execution_count": 5
        }
      ],
      "source": [
        "data.describe()"
      ]
    },
    {
      "cell_type": "code",
      "execution_count": null,
      "metadata": {
        "id": "TIrggLx8b6fu"
      },
      "outputs": [],
      "source": [
        "#Dropping attack category column since problem is binary classification\n",
        "data.drop(columns = 'label', inplace = True)"
      ]
    },
    {
      "cell_type": "code",
      "execution_count": null,
      "metadata": {
        "id": "neBjoyM-b9pj"
      },
      "outputs": [],
      "source": [
        "#Dropping NaN values\n",
        "data.dropna(inplace = True)"
      ]
    },
    {
      "cell_type": "code",
      "execution_count": null,
      "metadata": {
        "colab": {
          "base_uri": "https://localhost:8080/"
        },
        "id": "JKZBKh6wb_t9",
        "outputId": "f34adfb5-f91c-4136-ac52-fd424db014f8"
      },
      "outputs": [
        {
          "output_type": "execute_result",
          "data": {
            "text/plain": [
              "0"
            ]
          },
          "metadata": {},
          "execution_count": 8
        }
      ],
      "source": [
        "#Checking for null values in the dataset\n",
        "data.isnull().sum().sum()"
      ]
    },
    {
      "cell_type": "code",
      "execution_count": null,
      "metadata": {
        "id": "M_7RIewMcGGY"
      },
      "outputs": [],
      "source": [
        "data['service'].replace('-',np.nan,inplace=True)"
      ]
    },
    {
      "cell_type": "code",
      "execution_count": null,
      "metadata": {
        "colab": {
          "base_uri": "https://localhost:8080/"
        },
        "id": "Zygp6p3mcILE",
        "outputId": "17dbb1eb-9f92-4ab6-8af1-d0151249874d"
      },
      "outputs": [
        {
          "output_type": "execute_result",
          "data": {
            "text/plain": [
              "id                        0\n",
              "dur                       0\n",
              "proto                     0\n",
              "service              141321\n",
              "state                     0\n",
              "spkts                     0\n",
              "dpkts                     0\n",
              "sbytes                    0\n",
              "dbytes                    0\n",
              "rate                      0\n",
              "sttl                      0\n",
              "dttl                      0\n",
              "sload                     0\n",
              "dload                     0\n",
              "sloss                     0\n",
              "dloss                     0\n",
              "sinpkt                    0\n",
              "dinpkt                    0\n",
              "sjit                      0\n",
              "djit                      0\n",
              "swin                      0\n",
              "stcpb                     0\n",
              "dtcpb                     0\n",
              "dwin                      0\n",
              "tcprtt                    0\n",
              "synack                    0\n",
              "ackdat                    0\n",
              "smean                     0\n",
              "dmean                     0\n",
              "trans_depth               0\n",
              "response_body_len         0\n",
              "ct_srv_src                0\n",
              "ct_state_ttl              0\n",
              "ct_dst_ltm                0\n",
              "ct_src_dport_ltm          0\n",
              "ct_dst_sport_ltm          0\n",
              "ct_dst_src_ltm            0\n",
              "is_ftp_login              0\n",
              "ct_ftp_cmd                0\n",
              "ct_flw_http_mthd          0\n",
              "ct_src_ltm                0\n",
              "ct_srv_dst                0\n",
              "is_sm_ips_ports           0\n",
              "attack_cat                0\n",
              "dtype: int64"
            ]
          },
          "metadata": {},
          "execution_count": 10
        }
      ],
      "source": [
        "data.isnull().sum()"
      ]
    },
    {
      "cell_type": "code",
      "execution_count": null,
      "metadata": {
        "id": "5mLo016bcKD5"
      },
      "outputs": [],
      "source": [
        "data.dropna(inplace=True)"
      ]
    },
    {
      "cell_type": "code",
      "execution_count": null,
      "metadata": {
        "colab": {
          "base_uri": "https://localhost:8080/"
        },
        "id": "FVgYBdQTcORs",
        "outputId": "08d7d200-b804-46ad-c81e-d195c11f1c6d"
      },
      "outputs": [
        {
          "output_type": "execute_result",
          "data": {
            "text/plain": [
              "(116352, 44)"
            ]
          },
          "metadata": {},
          "execution_count": 12
        }
      ],
      "source": [
        "data.shape"
      ]
    },
    {
      "cell_type": "code",
      "execution_count": null,
      "metadata": {
        "id": "HIATjn6xsnBc"
      },
      "outputs": [],
      "source": [
        ""
      ]
    },
    {
      "cell_type": "code",
      "execution_count": null,
      "metadata": {
        "colab": {
          "base_uri": "https://localhost:8080/",
          "height": 482
        },
        "id": "l3ivY_NTsmoX",
        "outputId": "281ad616-369f-48cd-ab77-0630c0ed0811"
      },
      "outputs": [
        {
          "output_type": "display_data",
          "data": {
            "text/plain": [
              "<Figure size 576x576 with 1 Axes>"
            ],
            "image/png": "[encoded data removed]"
          },
          "metadata": {}
        }
      ],
      "source": [
        "plt.figure(figsize=(8,8))\n",
        "plt.pie(data.attack_cat.value_counts(),labels=data.attack_cat.unique(),autopct='%0.2f%%')\n",
        "plt.title('Pie chart distribution of multi-class labels')\n",
        "plt.legend(loc='best')\n",
        "plt.show()"
      ]
    },
    {
      "cell_type": "code",
      "execution_count": null,
      "metadata": {
        "id": "7n3kh-L-tDGk"
      },
      "outputs": [],
      "source": [
        "label_feature = ['label']\n",
        "categorical_features = ['proto', 'service', 'state']\n"
      ]
    },
    {
      "cell_type": "code",
      "execution_count": null,
      "metadata": {
        "id": "ovAtU-owtHMv"
      },
      "outputs": [],
      "source": [
        "drop_features = ['id', 'sttl', 'dttl', 'swin', 'dwin', 'trans_depth', 'response_body_len', 'ct_srv_src', 'ct_state_ttl', 'ct_dst_ltm', 'ct_src_dport_ltm', 'ct_dst_sport_ltm', 'ct_dst_src_ltm', 'is_ftp_login', 'ct_ftp_cmd', 'ct_flw_http_mthd', 'ct_src_ltm', 'ct_srv_dst', 'is_sm_ips_ports', 'attack_cat']\n",
        "numerical_features = list(set(data.columns) - set(label_feature) - set(categorical_features) - set(drop_features))"
      ]
    },
    {
      "cell_type": "code",
      "execution_count": null,
      "metadata": {
        "id": "0_dA6tH5tKQc"
      },
      "outputs": [],
      "source": [
        "scaler = MinMaxScaler()\n",
        "data[numerical_features] = scaler.fit_transform(data[numerical_features])"
      ]
    },
    {
      "cell_type": "code",
      "execution_count": null,
      "metadata": {
        "id": "X-69uttocl6l"
      },
      "outputs": [],
      "source": [
        "serv = OneHotEncoder()\n",
        "pro = OneHotEncoder()\n",
        "sta = OneHotEncoder()\n",
        "\n",
        "def encode(data):\n",
        "\n",
        "    X = serv.fit_transform(data['service'].values.reshape(-1, 1))\n",
        "    X2 = pro.fit_transform(data['proto'].values.reshape(-1, 1))\n",
        "    X3 = sta.fit_transform(data['state'].values.reshape(-1, 1))\n",
        "\n",
        "    data = pd.concat([data,\n",
        "                      pd.DataFrame(X2.toarray(), columns=['proto_'+i for i in pro.categories_[0]]),\n",
        "                      pd.DataFrame(X.toarray(), columns=['service_'+i for i in serv.categories_[0]]),\n",
        "                      pd.DataFrame(X3.toarray(), columns=['state_'+i for i in sta.categories_[0]])],\n",
        "                      axis=1)\n",
        "\n",
        "    data.drop(['proto', 'service', 'state'], axis=1, inplace=True)\n",
        "\n",
        "    return data"
      ]
    },
    {
      "cell_type": "code",
      "execution_count": null,
      "metadata": {
        "colab": {
          "base_uri": "https://localhost:8080/",
          "height": 661
        },
        "id": "jnrBoUwQcqQx",
        "outputId": "229bbbbb-9e04-43ac-d7ba-319ee214141c"
      },
      "outputs": [
        {
          "output_type": "execute_result",
          "data": {
            "text/plain": [
              "           id           dur proto service state     spkts     dpkts    sbytes  \\\n",
              "0           4  2.802759e-02   tcp     ftp   FIN  0.001033  0.001089  0.000039   \n",
              "1          12  3.488503e-02   tcp    smtp   FIN  0.005730  0.002541  0.003919   \n",
              "2          16  3.333360e-08   udp    snmp   INT  0.000094  0.000000  0.000005   \n",
              "3          18  6.559318e-03   tcp    http   FIN  0.000845  0.000726  0.000055   \n",
              "4          22  5.633661e-03   tcp    http   FIN  0.000845  0.000545  0.000065   \n",
              "...       ...           ...   ...     ...   ...       ...       ...       ...   \n",
              "116347  81463  1.363804e-02   tcp    http   FIN  0.005543  0.001271  0.004746   \n",
              "116348  81467  1.375294e-02   tcp    http   FIN  0.005543  0.001271  0.004746   \n",
              "116349  81519  1.458248e-02   tcp    http   FIN  0.005543  0.001271  0.004746   \n",
              "116350  81541  1.233728e-02   tcp    http   FIN  0.005543  0.001271  0.004746   \n",
              "116351  82195  3.183772e-02   tcp     ftp   FIN  0.005730  0.001815  0.004740   \n",
              "\n",
              "          dbytes      rate  ...  ct_src_dport_ltm  ct_dst_sport_ltm  \\\n",
              "0       0.000053  0.000014  ...                 1                 1   \n",
              "1       0.000151  0.000043  ...                 1                 1   \n",
              "2       0.000000  0.500000  ...                 1                 1   \n",
              "3       0.000075  0.000043  ...                 1                 1   \n",
              "4       0.000018  0.000044  ...                 1                 1   \n",
              "...          ...       ...  ...               ...               ...   \n",
              "116347  0.000042  0.000089  ...                 1                 1   \n",
              "116348  0.000042  0.000088  ...                 1                 1   \n",
              "116349  0.000042  0.000083  ...                 1                 1   \n",
              "116350  0.000042  0.000099  ...                 1                 1   \n",
              "116351  0.000070  0.000042  ...                 1                 1   \n",
              "\n",
              "        ct_dst_src_ltm  is_ftp_login  ct_ftp_cmd  ct_flw_http_mthd  \\\n",
              "0                    3             1           1                 0   \n",
              "1                    2             0           0                 0   \n",
              "2                    4             0           0                 0   \n",
              "3                    2             0           0                 1   \n",
              "4                    1             0           0                 1   \n",
              "...                ...           ...         ...               ...   \n",
              "116347               2             0           0                 1   \n",
              "116348               1             0           0                 1   \n",
              "116349               2             0           0                 1   \n",
              "116350               3             0           0                 1   \n",
              "116351               1             0           0                 0   \n",
              "\n",
              "        ct_src_ltm  ct_srv_dst  is_sm_ips_ports  attack_cat  \n",
              "0                2           1                0      Normal  \n",
              "1                1           1                0      Normal  \n",
              "2                2           1                0      Normal  \n",
              "3                1           3                0      Normal  \n",
              "4                2           3                0      Normal  \n",
              "...            ...         ...              ...         ...  \n",
              "116347           1           1                0      Normal  \n",
              "116348           1           1                0      Normal  \n",
              "116349           1           2                0      Normal  \n",
              "116350           1           3                0      Normal  \n",
              "116351          28           1                0      Normal  \n",
              "\n",
              "[116352 rows x 44 columns]"
            ],
            "text/html": [
              "\n",
              "  <div id=\"df-3843b996-24a1-4ea0-abb1-f480b638cc01\">\n",
              "    <div class=\"colab-df-container\">\n",
              "      <div>\n",
              "<style scoped>\n",
              "    .dataframe tbody tr th:only-of-type {\n",
              "        vertical-align: middle;\n",
              "    }\n",
              "\n",
              "    .dataframe tbody tr th {\n",
              "        vertical-align: top;\n",
              "    }\n",
              "\n",
              "    .dataframe thead th {\n",
              "        text-align: right;\n",
              "    }\n",
              "</style>\n",
              "<table border=\"1\" class=\"dataframe\">\n",
              "  <thead>\n",
              "    <tr style=\"text-align: right;\">\n",
              "      <th></th>\n",
              "      <th>id</th>\n",
              "      <th>dur</th>\n",
              "      <th>proto</th>\n",
              "      <th>service</th>\n",
              "      <th>state</th>\n",
              "      <th>spkts</th>\n",
              "      <th>dpkts</th>\n",
              "      <th>sbytes</th>\n",
              "      <th>dbytes</th>\n",
              "      <th>rate</th>\n",
              "      <th>...</th>\n",
              "      <th>ct_src_dport_ltm</th>\n",
              "      <th>ct_dst_sport_ltm</th>\n",
              "      <th>ct_dst_src_ltm</th>\n",
              "      <th>is_ftp_login</th>\n",
              "      <th>ct_ftp_cmd</th>\n",
              "      <th>ct_flw_http_mthd</th>\n",
              "      <th>ct_src_ltm</th>\n",
              "      <th>ct_srv_dst</th>\n",
              "      <th>is_sm_ips_ports</th>\n",
              "      <th>attack_cat</th>\n",
              "    </tr>\n",
              "  </thead>\n",
              "  <tbody>\n",
              "    <tr>\n",
              "      <th>0</th>\n",
              "      <td>4</td>\n",
              "      <td>2.802759e-02</td>\n",
              "      <td>tcp</td>\n",
              "      <td>ftp</td>\n",
              "      <td>FIN</td>\n",
              "      <td>0.001033</td>\n",
              "      <td>0.001089</td>\n",
              "      <td>0.000039</td>\n",
              "      <td>0.000053</td>\n",
              "      <td>0.000014</td>\n",
              "      <td>...</td>\n",
              "      <td>1</td>\n",
              "      <td>1</td>\n",
              "      <td>3</td>\n",
              "      <td>1</td>\n",
              "      <td>1</td>\n",
              "      <td>0</td>\n",
              "      <td>2</td>\n",
              "      <td>1</td>\n",
              "      <td>0</td>\n",
              "      <td>Normal</td>\n",
              "    </tr>\n",
              "    <tr>\n",
              "      <th>1</th>\n",
              "      <td>12</td>\n",
              "      <td>3.488503e-02</td>\n",
              "      <td>tcp</td>\n",
              "      <td>smtp</td>\n",
              "      <td>FIN</td>\n",
              "      <td>0.005730</td>\n",
              "      <td>0.002541</td>\n",
              "      <td>0.003919</td>\n",
              "      <td>0.000151</td>\n",
              "      <td>0.000043</td>\n",
              "      <td>...</td>\n",
              "      <td>1</td>\n",
              "      <td>1</td>\n",
              "      <td>2</td>\n",
              "      <td>0</td>\n",
              "      <td>0</td>\n",
              "      <td>0</td>\n",
              "      <td>1</td>\n",
              "      <td>1</td>\n",
              "      <td>0</td>\n",
              "      <td>Normal</td>\n",
              "    </tr>\n",
              "    <tr>\n",
              "      <th>2</th>\n",
              "      <td>16</td>\n",
              "      <td>3.333360e-08</td>\n",
              "      <td>udp</td>\n",
              "      <td>snmp</td>\n",
              "      <td>INT</td>\n",
              "      <td>0.000094</td>\n",
              "      <td>0.000000</td>\n",
              "      <td>0.000005</td>\n",
              "      <td>0.000000</td>\n",
              "      <td>0.500000</td>\n",
              "      <td>...</td>\n",
              "      <td>1</td>\n",
              "      <td>1</td>\n",
              "      <td>4</td>\n",
              "      <td>0</td>\n",
              "      <td>0</td>\n",
              "      <td>0</td>\n",
              "      <td>2</td>\n",
              "      <td>1</td>\n",
              "      <td>0</td>\n",
              "      <td>Normal</td>\n",
              "    </tr>\n",
              "    <tr>\n",
              "      <th>3</th>\n",
              "      <td>18</td>\n",
              "      <td>6.559318e-03</td>\n",
              "      <td>tcp</td>\n",
              "      <td>http</td>\n",
              "      <td>FIN</td>\n",
              "      <td>0.000845</td>\n",
              "      <td>0.000726</td>\n",
              "      <td>0.000055</td>\n",
              "      <td>0.000075</td>\n",
              "      <td>0.000043</td>\n",
              "      <td>...</td>\n",
              "      <td>1</td>\n",
              "      <td>1</td>\n",
              "      <td>2</td>\n",
              "      <td>0</td>\n",
              "      <td>0</td>\n",
              "      <td>1</td>\n",
              "      <td>1</td>\n",
              "      <td>3</td>\n",
              "      <td>0</td>\n",
              "      <td>Normal</td>\n",
              "    </tr>\n",
              "    <tr>\n",
              "      <th>4</th>\n",
              "      <td>22</td>\n",
              "      <td>5.633661e-03</td>\n",
              "      <td>tcp</td>\n",
              "      <td>http</td>\n",
              "      <td>FIN</td>\n",
              "      <td>0.000845</td>\n",
              "      <td>0.000545</td>\n",
              "      <td>0.000065</td>\n",
              "      <td>0.000018</td>\n",
              "      <td>0.000044</td>\n",
              "      <td>...</td>\n",
              "      <td>1</td>\n",
              "      <td>1</td>\n",
              "      <td>1</td>\n",
              "      <td>0</td>\n",
              "      <td>0</td>\n",
              "      <td>1</td>\n",
              "      <td>2</td>\n",
              "      <td>3</td>\n",
              "      <td>0</td>\n",
              "      <td>Normal</td>\n",
              "    </tr>\n",
              "    <tr>\n",
              "      <th>...</th>\n",
              "      <td>...</td>\n",
              "      <td>...</td>\n",
              "      <td>...</td>\n",
              "      <td>...</td>\n",
              "      <td>...</td>\n",
              "      <td>...</td>\n",
              "      <td>...</td>\n",
              "      <td>...</td>\n",
              "      <td>...</td>\n",
              "      <td>...</td>\n",
              "      <td>...</td>\n",
              "      <td>...</td>\n",
              "      <td>...</td>\n",
              "      <td>...</td>\n",
              "      <td>...</td>\n",
              "      <td>...</td>\n",
              "      <td>...</td>\n",
              "      <td>...</td>\n",
              "      <td>...</td>\n",
              "      <td>...</td>\n",
              "      <td>...</td>\n",
              "    </tr>\n",
              "    <tr>\n",
              "      <th>116347</th>\n",
              "      <td>81463</td>\n",
              "      <td>1.363804e-02</td>\n",
              "      <td>tcp</td>\n",
              "      <td>http</td>\n",
              "      <td>FIN</td>\n",
              "      <td>0.005543</td>\n",
              "      <td>0.001271</td>\n",
              "      <td>0.004746</td>\n",
              "      <td>0.000042</td>\n",
              "      <td>0.000089</td>\n",
              "      <td>...</td>\n",
              "      <td>1</td>\n",
              "      <td>1</td>\n",
              "      <td>2</td>\n",
              "      <td>0</td>\n",
              "      <td>0</td>\n",
              "      <td>1</td>\n",
              "      <td>1</td>\n",
              "      <td>1</td>\n",
              "      <td>0</td>\n",
              "      <td>Normal</td>\n",
              "    </tr>\n",
              "    <tr>\n",
              "      <th>116348</th>\n",
              "      <td>81467</td>\n",
              "      <td>1.375294e-02</td>\n",
              "      <td>tcp</td>\n",
              "      <td>http</td>\n",
              "      <td>FIN</td>\n",
              "      <td>0.005543</td>\n",
              "      <td>0.001271</td>\n",
              "      <td>0.004746</td>\n",
              "      <td>0.000042</td>\n",
              "      <td>0.000088</td>\n",
              "      <td>...</td>\n",
              "      <td>1</td>\n",
              "      <td>1</td>\n",
              "      <td>1</td>\n",
              "      <td>0</td>\n",
              "      <td>0</td>\n",
              "      <td>1</td>\n",
              "      <td>1</td>\n",
              "      <td>1</td>\n",
              "      <td>0</td>\n",
              "      <td>Normal</td>\n",
              "    </tr>\n",
              "    <tr>\n",
              "      <th>116349</th>\n",
              "      <td>81519</td>\n",
              "      <td>1.458248e-02</td>\n",
              "      <td>tcp</td>\n",
              "      <td>http</td>\n",
              "      <td>FIN</td>\n",
              "      <td>0.005543</td>\n",
              "      <td>0.001271</td>\n",
              "      <td>0.004746</td>\n",
              "      <td>0.000042</td>\n",
              "      <td>0.000083</td>\n",
              "      <td>...</td>\n",
              "      <td>1</td>\n",
              "      <td>1</td>\n",
              "      <td>2</td>\n",
              "      <td>0</td>\n",
              "      <td>0</td>\n",
              "      <td>1</td>\n",
              "      <td>1</td>\n",
              "      <td>2</td>\n",
              "      <td>0</td>\n",
              "      <td>Normal</td>\n",
              "    </tr>\n",
              "    <tr>\n",
              "      <th>116350</th>\n",
              "      <td>81541</td>\n",
              "      <td>1.233728e-02</td>\n",
              "      <td>tcp</td>\n",
              "      <td>http</td>\n",
              "      <td>FIN</td>\n",
              "      <td>0.005543</td>\n",
              "      <td>0.001271</td>\n",
              "      <td>0.004746</td>\n",
              "      <td>0.000042</td>\n",
              "      <td>0.000099</td>\n",
              "      <td>...</td>\n",
              "      <td>1</td>\n",
              "      <td>1</td>\n",
              "      <td>3</td>\n",
              "      <td>0</td>\n",
              "      <td>0</td>\n",
              "      <td>1</td>\n",
              "      <td>1</td>\n",
              "      <td>3</td>\n",
              "      <td>0</td>\n",
              "      <td>Normal</td>\n",
              "    </tr>\n",
              "    <tr>\n",
              "      <th>116351</th>\n",
              "      <td>82195</td>\n",
              "      <td>3.183772e-02</td>\n",
              "      <td>tcp</td>\n",
              "      <td>ftp</td>\n",
              "      <td>FIN</td>\n",
              "      <td>0.005730</td>\n",
              "      <td>0.001815</td>\n",
              "      <td>0.004740</td>\n",
              "      <td>0.000070</td>\n",
              "      <td>0.000042</td>\n",
              "      <td>...</td>\n",
              "      <td>1</td>\n",
              "      <td>1</td>\n",
              "      <td>1</td>\n",
              "      <td>0</td>\n",
              "      <td>0</td>\n",
              "      <td>0</td>\n",
              "      <td>28</td>\n",
              "      <td>1</td>\n",
              "      <td>0</td>\n",
              "      <td>Normal</td>\n",
              "    </tr>\n",
              "  </tbody>\n",
              "</table>\n",
              "<p>116352 rows × 44 columns</p>\n",
              "</div>\n",
              "      <button class=\"colab-df-convert\" onclick=\"convertToInteractive('df-3843b996-24a1-4ea0-abb1-f480b638cc01')\"\n",
              "              title=\"Convert this dataframe to an interactive table.\"\n",
              "              style=\"display:none;\">\n",
              "        \n",
              "  <svg xmlns=\"http://www.w3.org/2000/svg\" height=\"24px\"viewBox=\"0 0 24 24\"\n",
              "       width=\"24px\">\n",
              "    <path d=\"M0 0h24v24H0V0z\" fill=\"none\"/>\n",
              "    <path d=\"M18.56 5.44l.94 2.06.94-2.06 2.06-.94-2.06-.94-.94-2.06-.94 2.06-2.06.94zm-11 1L8.5 8.5l.94-2.06 2.06-.94-2.06-.94L8.5 2.5l-.94 2.06-2.06.94zm10 10l.94 2.06.94-2.06 2.06-.94-2.06-.94-.94-2.06-.94 2.06-2.06.94z\"/><path d=\"M17.41 7.96l-1.37-1.37c-.4-.4-.92-.59-1.43-.59-.52 0-1.04.2-1.43.59L10.3 9.45l-7.72 7.72c-.78.78-.78 2.05 0 2.83L4 21.41c.39.39.9.59 1.41.59.51 0 1.02-.2 1.41-.59l7.78-7.78 2.81-2.81c.8-.78.8-2.07 0-2.86zM5.41 20L4 18.59l7.72-7.72 1.47 1.35L5.41 20z\"/>\n",
              "  </svg>\n",
              "      </button>\n",
              "      \n",
              "  <style>\n",
              "    .colab-df-container {\n",
              "      display:flex;\n",
              "      flex-wrap:wrap;\n",
              "      gap: 12px;\n",
              "    }\n",
              "\n",
              "    .colab-df-convert {\n",
              "      background-color: #E8F0FE;\n",
              "      border: none;\n",
              "      border-radius: 50%;\n",
              "      cursor: pointer;\n",
              "      display: none;\n",
              "      fill: #1967D2;\n",
              "      height: 32px;\n",
              "      padding: 0 0 0 0;\n",
              "      width: 32px;\n",
              "    }\n",
              "\n",
              "    .colab-df-convert:hover {\n",
              "      background-color: #E2EBFA;\n",
              "      box-shadow: 0px 1px 2px rgba(60, 64, 67, 0.3), 0px 1px 3px 1px rgba(60, 64, 67, 0.15);\n",
              "      fill: #174EA6;\n",
              "    }\n",
              "\n",
              "    [theme=dark] .colab-df-convert {\n",
              "      background-color: #3B4455;\n",
              "      fill: #D2E3FC;\n",
              "    }\n",
              "\n",
              "    [theme=dark] .colab-df-convert:hover {\n",
              "      background-color: #434B5C;\n",
              "      box-shadow: 0px 1px 3px 1px rgba(0, 0, 0, 0.15);\n",
              "      filter: drop-shadow(0px 1px 2px rgba(0, 0, 0, 0.3));\n",
              "      fill: #FFFFFF;\n",
              "    }\n",
              "  </style>\n",
              "\n",
              "      <script>\n",
              "        const buttonEl =\n",
              "          document.querySelector('#df-3843b996-24a1-4ea0-abb1-f480b638cc01 button.colab-df-convert');\n",
              "        buttonEl.style.display =\n",
              "          google.colab.kernel.accessAllowed ? 'block' : 'none';\n",
              "\n",
              "        async function convertToInteractive(key) {\n",
              "          const element = document.querySelector('#df-3843b996-24a1-4ea0-abb1-f480b638cc01');\n",
              "          const dataTable =\n",
              "            await google.colab.kernel.invokeFunction('convertToInteractive',\n",
              "                                                     [key], {});\n",
              "          if (!dataTable) return;\n",
              "\n",
              "          const docLinkHtml = 'Like what you see? Visit the ' +\n",
              "            '<a target=\"_blank\" href=https://colab.research.google.com/notebooks/data_table.ipynb>data table notebook</a>'\n",
              "            + ' to learn more about interactive tables.';\n",
              "          element.innerHTML = '';\n",
              "          dataTable['output_type'] = 'display_data';\n",
              "          await google.colab.output.renderOutput(dataTable, element);\n",
              "          const docLink = document.createElement('div');\n",
              "          docLink.innerHTML = docLinkHtml;\n",
              "          element.appendChild(docLink);\n",
              "        }\n",
              "      </script>\n",
              "    </div>\n",
              "  </div>\n",
              "  "
            ]
          },
          "metadata": {},
          "execution_count": 18
        }
      ],
      "source": [
        "data.reset_index(drop=True)"
      ]
    },
    {
      "cell_type": "code",
      "execution_count": null,
      "metadata": {
        "colab": {
          "base_uri": "https://localhost:8080/"
        },
        "id": "BKMPs8b0cth-",
        "outputId": "35a6d50c-2b8b-4b4a-af71-7c4c50cd5852"
      },
      "outputs": [
        {
          "output_type": "execute_result",
          "data": {
            "text/plain": [
              "(116352, 44)"
            ]
          },
          "metadata": {},
          "execution_count": 19
        }
      ],
      "source": [
        "data.shape"
      ]
    },
    {
      "cell_type": "code",
      "execution_count": null,
      "metadata": {
        "colab": {
          "base_uri": "https://localhost:8080/",
          "height": 206
        },
        "id": "lWUR2PwXcwFh",
        "outputId": "f80ffee8-1713-4d8f-c43b-7d3b365b0228"
      },
      "outputs": [
        {
          "output_type": "execute_result",
          "data": {
            "text/plain": [
              "   proto service state\n",
              "3    tcp     ftp   FIN\n",
              "11   tcp    smtp   FIN\n",
              "15   udp    snmp   INT\n",
              "17   tcp    http   FIN\n",
              "21   tcp    http   FIN"
            ],
            "text/html": [
              "\n",
              "  <div id=\"df-df37fd00-e13e-4310-9e22-754c33b80fa0\">\n",
              "    <div class=\"colab-df-container\">\n",
              "      <div>\n",
              "<style scoped>\n",
              "    .dataframe tbody tr th:only-of-type {\n",
              "        vertical-align: middle;\n",
              "    }\n",
              "\n",
              "    .dataframe tbody tr th {\n",
              "        vertical-align: top;\n",
              "    }\n",
              "\n",
              "    .dataframe thead th {\n",
              "        text-align: right;\n",
              "    }\n",
              "</style>\n",
              "<table border=\"1\" class=\"dataframe\">\n",
              "  <thead>\n",
              "    <tr style=\"text-align: right;\">\n",
              "      <th></th>\n",
              "      <th>proto</th>\n",
              "      <th>service</th>\n",
              "      <th>state</th>\n",
              "    </tr>\n",
              "  </thead>\n",
              "  <tbody>\n",
              "    <tr>\n",
              "      <th>3</th>\n",
              "      <td>tcp</td>\n",
              "      <td>ftp</td>\n",
              "      <td>FIN</td>\n",
              "    </tr>\n",
              "    <tr>\n",
              "      <th>11</th>\n",
              "      <td>tcp</td>\n",
              "      <td>smtp</td>\n",
              "      <td>FIN</td>\n",
              "    </tr>\n",
              "    <tr>\n",
              "      <th>15</th>\n",
              "      <td>udp</td>\n",
              "      <td>snmp</td>\n",
              "      <td>INT</td>\n",
              "    </tr>\n",
              "    <tr>\n",
              "      <th>17</th>\n",
              "      <td>tcp</td>\n",
              "      <td>http</td>\n",
              "      <td>FIN</td>\n",
              "    </tr>\n",
              "    <tr>\n",
              "      <th>21</th>\n",
              "      <td>tcp</td>\n",
              "      <td>http</td>\n",
              "      <td>FIN</td>\n",
              "    </tr>\n",
              "  </tbody>\n",
              "</table>\n",
              "</div>\n",
              "      <button class=\"colab-df-convert\" onclick=\"convertToInteractive('df-df37fd00-e13e-4310-9e22-754c33b80fa0')\"\n",
              "              title=\"Convert this dataframe to an interactive table.\"\n",
              "              style=\"display:none;\">\n",
              "        \n",
              "  <svg xmlns=\"http://www.w3.org/2000/svg\" height=\"24px\"viewBox=\"0 0 24 24\"\n",
              "       width=\"24px\">\n",
              "    <path d=\"M0 0h24v24H0V0z\" fill=\"none\"/>\n",
              "    <path d=\"M18.56 5.44l.94 2.06.94-2.06 2.06-.94-2.06-.94-.94-2.06-.94 2.06-2.06.94zm-11 1L8.5 8.5l.94-2.06 2.06-.94-2.06-.94L8.5 2.5l-.94 2.06-2.06.94zm10 10l.94 2.06.94-2.06 2.06-.94-2.06-.94-.94-2.06-.94 2.06-2.06.94z\"/><path d=\"M17.41 7.96l-1.37-1.37c-.4-.4-.92-.59-1.43-.59-.52 0-1.04.2-1.43.59L10.3 9.45l-7.72 7.72c-.78.78-.78 2.05 0 2.83L4 21.41c.39.39.9.59 1.41.59.51 0 1.02-.2 1.41-.59l7.78-7.78 2.81-2.81c.8-.78.8-2.07 0-2.86zM5.41 20L4 18.59l7.72-7.72 1.47 1.35L5.41 20z\"/>\n",
              "  </svg>\n",
              "      </button>\n",
              "      \n",
              "  <style>\n",
              "    .colab-df-container {\n",
              "      display:flex;\n",
              "      flex-wrap:wrap;\n",
              "      gap: 12px;\n",
              "    }\n",
              "\n",
              "    .colab-df-convert {\n",
              "      background-color: #E8F0FE;\n",
              "      border: none;\n",
              "      border-radius: 50%;\n",
              "      cursor: pointer;\n",
              "      display: none;\n",
              "      fill: #1967D2;\n",
              "      height: 32px;\n",
              "      padding: 0 0 0 0;\n",
              "      width: 32px;\n",
              "    }\n",
              "\n",
              "    .colab-df-convert:hover {\n",
              "      background-color: #E2EBFA;\n",
              "      box-shadow: 0px 1px 2px rgba(60, 64, 67, 0.3), 0px 1px 3px 1px rgba(60, 64, 67, 0.15);\n",
              "      fill: #174EA6;\n",
              "    }\n",
              "\n",
              "    [theme=dark] .colab-df-convert {\n",
              "      background-color: #3B4455;\n",
              "      fill: #D2E3FC;\n",
              "    }\n",
              "\n",
              "    [theme=dark] .colab-df-convert:hover {\n",
              "      background-color: #434B5C;\n",
              "      box-shadow: 0px 1px 3px 1px rgba(0, 0, 0, 0.15);\n",
              "      filter: drop-shadow(0px 1px 2px rgba(0, 0, 0, 0.3));\n",
              "      fill: #FFFFFF;\n",
              "    }\n",
              "  </style>\n",
              "\n",
              "      <script>\n",
              "        const buttonEl =\n",
              "          document.querySelector('#df-df37fd00-e13e-4310-9e22-754c33b80fa0 button.colab-df-convert');\n",
              "        buttonEl.style.display =\n",
              "          google.colab.kernel.accessAllowed ? 'block' : 'none';\n",
              "\n",
              "        async function convertToInteractive(key) {\n",
              "          const element = document.querySelector('#df-df37fd00-e13e-4310-9e22-754c33b80fa0');\n",
              "          const dataTable =\n",
              "            await google.colab.kernel.invokeFunction('convertToInteractive',\n",
              "                                                     [key], {});\n",
              "          if (!dataTable) return;\n",
              "\n",
              "          const docLinkHtml = 'Like what you see? Visit the ' +\n",
              "            '<a target=\"_blank\" href=https://colab.research.google.com/notebooks/data_table.ipynb>data table notebook</a>'\n",
              "            + ' to learn more about interactive tables.';\n",
              "          element.innerHTML = '';\n",
              "          dataTable['output_type'] = 'display_data';\n",
              "          await google.colab.output.renderOutput(dataTable, element);\n",
              "          const docLink = document.createElement('div');\n",
              "          docLink.innerHTML = docLinkHtml;\n",
              "          element.appendChild(docLink);\n",
              "        }\n",
              "      </script>\n",
              "    </div>\n",
              "  </div>\n",
              "  "
            ]
          },
          "metadata": {},
          "execution_count": 20
        }
      ],
      "source": [
        "catval = ['proto', 'service', 'state']\n",
        "data_cat = data[catval].copy()\n",
        "data_cat.head()"
      ]
    },
    {
      "cell_type": "code",
      "execution_count": null,
      "metadata": {
        "id": "2LMoz1HccyOr"
      },
      "outputs": [],
      "source": [
        "data_cat = pd.get_dummies(data_cat,columns=catval)\n",
        "data = pd.concat([data, data_cat],axis=1)"
      ]
    },
    {
      "cell_type": "code",
      "execution_count": null,
      "metadata": {
        "id": "7cIYRi4wc1OS"
      },
      "outputs": [],
      "source": [
        "data.drop(columns=catval,inplace=True)"
      ]
    },
    {
      "cell_type": "code",
      "execution_count": null,
      "metadata": {
        "id": "UJD-D9HIvH0s"
      },
      "outputs": [],
      "source": [
        "# one-hot-encoding attack label\n",
        "multi_data = data.copy()\n",
        "multi_label = pd.DataFrame(multi_data.attack_cat)"
      ]
    },
    {
      "cell_type": "code",
      "execution_count": null,
      "metadata": {
        "id": "gnRpbvIwvL0C"
      },
      "outputs": [],
      "source": [
        "multi_data = pd.get_dummies(multi_data,columns=['attack_cat'])"
      ]
    },
    {
      "cell_type": "code",
      "execution_count": null,
      "metadata": {
        "id": "FymCDljOvOer"
      },
      "outputs": [],
      "source": [
        "# label encoding (0,1,2,3,4,5,6,7,8) multi-class labels\n",
        "le2 = preprocessing.LabelEncoder()\n",
        "enc_label = multi_label.apply(le2.fit_transform)\n",
        "multi_data['label'] = enc_label"
      ]
    },
    {
      "cell_type": "code",
      "execution_count": null,
      "metadata": {
        "colab": {
          "base_uri": "https://localhost:8080/"
        },
        "id": "T3wLXJISvRQB",
        "outputId": "8a820f68-d270-4726-d05b-643c75190791"
      },
      "outputs": [
        {
          "output_type": "execute_result",
          "data": {
            "text/plain": [
              "array(['Analysis', 'Backdoor', 'DoS', 'Exploits', 'Fuzzers', 'Generic',\n",
              "       'Normal', 'Reconnaissance', 'Worms'], dtype=object)"
            ]
          },
          "metadata": {},
          "execution_count": 26
        }
      ],
      "source": [
        "le2.classes_"
      ]
    },
    {
      "cell_type": "code",
      "execution_count": null,
      "metadata": {
        "id": "_QhWmVENvTWf"
      },
      "outputs": [],
      "source": [
        "np.save(\"le2_classes.npy\",le2.classes_,allow_pickle=True)"
      ]
    },
    {
      "cell_type": "code",
      "execution_count": null,
      "metadata": {
        "colab": {
          "base_uri": "https://localhost:8080/"
        },
        "id": "0Y4fX7u4ZUKb",
        "outputId": "c4a341e6-c40a-477e-f04a-04a27081d12d"
      },
      "outputs": [
        {
          "output_type": "execute_result",
          "data": {
            "text/plain": [
              "3        6\n",
              "11       6\n",
              "15       6\n",
              "17       6\n",
              "21       6\n",
              "        ..\n",
              "81462    6\n",
              "81466    6\n",
              "81518    6\n",
              "81540    6\n",
              "82194    6\n",
              "Name: label, Length: 116352, dtype: int64"
            ]
          },
          "metadata": {},
          "execution_count": 28
        }
      ],
      "source": [
        "multi_data.label"
      ]
    },
    {
      "cell_type": "code",
      "execution_count": null,
      "metadata": {
        "id": "d6jmt6OSc3Sr"
      },
      "outputs": [],
      "source": [
        "X = data.drop(columns=['attack_cat'],axis=1)\n",
        "Y = multi_data['label']"
      ]
    },
    {
      "cell_type": "code",
      "execution_count": null,
      "metadata": {
        "colab": {
          "base_uri": "https://localhost:8080/"
        },
        "id": "8msfQDnFcB6L",
        "outputId": "9ad8804e-d1ad-4fa8-a0e4-1779c0247a1f"
      },
      "outputs": [
        {
          "output_type": "execute_result",
          "data": {
            "text/plain": [
              "5    57956\n",
              "6    29113\n",
              "3    21480\n",
              "2     2508\n",
              "4     2266\n",
              "7     2207\n",
              "0      564\n",
              "8      148\n",
              "1      110\n",
              "Name: label, dtype: int64"
            ]
          },
          "metadata": {},
          "execution_count": 30
        }
      ],
      "source": [
        "Y.value_counts()"
      ]
    },
    {
      "cell_type": "code",
      "execution_count": null,
      "metadata": {
        "colab": {
          "base_uri": "https://localhost:8080/"
        },
        "id": "bRcGAg1JcVBT",
        "outputId": "c12be819-8d81-4cec-a736-ff1265274111"
      },
      "outputs": [
        {
          "output_type": "execute_result",
          "data": {
            "text/plain": [
              "Generic           57956\n",
              "Normal            29113\n",
              "Exploits          21480\n",
              "DoS                2508\n",
              "Fuzzers            2266\n",
              "Reconnaissance     2207\n",
              "Analysis            564\n",
              "Worms               148\n",
              "Backdoor            110\n",
              "Name: attack_cat, dtype: int64"
            ]
          },
          "metadata": {},
          "execution_count": 31
        }
      ],
      "source": [
        "data.attack_cat.value_counts()"
      ]
    },
    {
      "cell_type": "code",
      "execution_count": null,
      "metadata": {
        "id": "zx9ynSELc6d5"
      },
      "outputs": [],
      "source": [
        "X_train,X_test,y_train,y_test = train_test_split(X,Y,test_size=0.20, random_state=50)"
      ]
    },
    {
      "cell_type": "code",
      "execution_count": null,
      "metadata": {
        "id": "E5nNS5xRc9TF"
      },
      "outputs": [],
      "source": [
        "#ANOVA Feature selection\n",
        "def select_features(X_train, y_train, X_test):\n",
        "\t# configure to select a subset of features\n",
        "\tfs = SelectKBest(score_func=f_classif, k=15)\n",
        "\t# learn relationship from training data\n",
        "\tfs.fit(X_train, y_train)\n",
        "\t# transform train input data\n",
        "\tX_train_fs = fs.transform(X_train)\n",
        "\t# transform test input data\n",
        "\tX_test_fs = fs.transform(X_test)\n",
        "\treturn X_train_fs, X_test_fs, fs"
      ]
    },
    {
      "cell_type": "code",
      "execution_count": null,
      "metadata": {
        "colab": {
          "base_uri": "https://localhost:8080/"
        },
        "id": "xJeX2ENWdAhJ",
        "outputId": "8e46c73a-0bf0-47fb-9e97-434863192911"
      },
      "outputs": [
        {
          "output_type": "stream",
          "name": "stderr",
          "text": [
            "/usr/local/lib/python3.7/dist-packages/sklearn/feature_selection/_univariate_selection.py:112: UserWarning: Features [39] are constant.\n",
            "  warnings.warn(\"Features %s are constant.\" % constant_features_idx, UserWarning)\n",
            "/usr/local/lib/python3.7/dist-packages/sklearn/feature_selection/_univariate_selection.py:113: RuntimeWarning: invalid value encountered in true_divide\n",
            "  f = msb / msw\n"
          ]
        }
      ],
      "source": [
        "X_train_fs, X_test_fs, fs = select_features(X_train, y_train, X_test)"
      ]
    },
    {
      "cell_type": "code",
      "execution_count": null,
      "metadata": {
        "id": "EPhU4i9TdDPl"
      },
      "outputs": [],
      "source": [
        "#Evaluation Metrics for the Multilayer Perceptrons\n",
        "class FalsePositiveRate(tf.keras.metrics.Metric):\n",
        "    def __init__(self, name='false_positive_rate', **kwargs):\n",
        "        super(FalsePositiveRate, self).__init__(name=name, **kwargs)\n",
        "        self.negatives = self.add_weight(name='negatives', initializer='zeros')\n",
        "        self.false_positives = self.add_weight(name='false_negatives', initializer='zeros')\n",
        "        \n",
        "    def update_state(self, y_true, y_pred, sample_weight=None):\n",
        "        y_true = tf.cast(y_true, tf.bool)\n",
        "        \n",
        "        negatives = tf.reduce_sum(tf.cast(tf.equal(y_true, False), self.dtype))\n",
        "        \n",
        "        self.negatives.assign_add(negatives)\n",
        "        \n",
        "        y_pred = tf.greater_equal(y_pred, 0.5)\n",
        "        \n",
        "        false_positive_values = tf.logical_and(tf.equal(y_true, False), tf.equal(y_pred, True)) \n",
        "        false_positive_values = tf.cast(false_positive_values, self.dtype)\n",
        "        if sample_weight is not None:\n",
        "            sample_weight = tf.cast(sample_weight, self.dtype)\n",
        "            sample_weight = tf.broadcast_weights(sample_weight, values)\n",
        "            values = tf.multiply(false_positive_values, sample_weight)\n",
        "        \n",
        "        false_positives = tf.reduce_sum(false_positive_values)\n",
        "        \n",
        "        self.false_positives.assign_add(false_positives)\n",
        "        \n",
        "    def result(self):\n",
        "        return tf.divide(self.false_positives, self.negatives)"
      ]
    },
    {
      "cell_type": "code",
      "execution_count": null,
      "metadata": {
        "id": "vA9nUoTqdQoa"
      },
      "outputs": [],
      "source": [
        "#Evaluation Metrics for the Multilayer Perceptrons\n",
        "def plot_loss(model_history):\n",
        "  train_loss=[value for key, value in model_history.items() if 'loss' in key.lower()][0]\n",
        "  valid_loss=[value for key, value in model_history.items() if 'loss' in key.lower()][1]\n",
        "  fig, ax1 = plt.subplots()\n",
        "  color = 'tab:blue'\n",
        "  ax1.set_xlabel('Epoch')\n",
        "  ax1.set_ylabel('Loss', color=color)\n",
        "  ax1.plot(train_loss, '--', color=color, label='Train Loss')\n",
        "  ax1.plot(valid_loss, color=color, label='Valid Loss')\n",
        "  ax1.tick_params(axis='y', labelcolor=color)\n",
        "  plt.legend(loc='upper left')\n",
        "  plt.title('Model Loss')\n",
        "  plt.show()"
      ]
    },
    {
      "cell_type": "code",
      "execution_count": null,
      "metadata": {
        "id": "C8DSdrAhdbno"
      },
      "outputs": [],
      "source": [
        "#Evaluation Metrics for the Multilayer Perceptrons\n",
        "def plot_model_recall_fpr(model_history):\n",
        "  train_recall=[value for key, value in model_history.items() if 'recall' in key.lower()][0]\n",
        "  valid_recall=[value for key, value in model_history.items() if 'recall' in key.lower()][1]\n",
        "  train_fpr=[value for key, value in model_history.items() if 'false_positive_rate' in key.lower()][0]\n",
        "  valid_fpr=[value for key, value in model_history.items() if 'false_positive_rate' in key.lower()][1]\n",
        "  fig, ax1 = plt.subplots()\n",
        "  color = 'tab:red'\n",
        "  ax1.set_xlabel('Epoch')\n",
        "  ax1.set_ylabel('Recall', color=color)\n",
        "  ax1.set_ylim([-0.05,1.05])\n",
        "  ax1.plot(train_recall, '--', color=color, label='Train Recall')\n",
        "  ax1.plot(valid_recall, color=color, label='Valid Recall')\n",
        "  ax1.tick_params(axis='y', labelcolor=color)\n",
        "  plt.legend(loc='upper left')\n",
        "  plt.title('Model Recall and FPR')\n",
        "  ax2 = ax1.twinx()  # instantiate a second axes that shares the same x-axis\n",
        "  color = 'tab:blue'\n",
        "  ax2.set_ylabel('False Positive Rate', color=color)  # we already handled the x-label with ax1\n",
        "  ax2.plot(train_fpr, '--', color=color, label='Train FPR')\n",
        "  ax2.plot(valid_fpr, color=color, label='Valid FPR')\n",
        "  ax2.tick_params(axis='y', labelcolor=color)\n",
        "  ax2.set_ylim([-0.05,1.05])\n",
        "  fig.tight_layout()  # otherwise the right y-label is slightly clipped\n",
        "  plt.legend(loc='upper right')\n",
        "  plt.show()"
      ]
    },
    {
      "cell_type": "code",
      "execution_count": null,
      "metadata": {
        "id": "Mc94yJbie2Tq"
      },
      "outputs": [],
      "source": [
        "#Evaluation Metrics for the Multilayer Perceptrons\n",
        "def plot_train_history(history):\n",
        "    # plot the cost and accuracy \n",
        "    loss_list = history['loss']\n",
        "    val_loss_list = history['val_loss']\n",
        "    accuracy_list = history['accuracy']\n",
        "    val_accuracy_list = history['val_accuracy']\n",
        "    # epochs = range(len(loss_list))\n",
        "\n",
        "    # plot the cost\n",
        "    plt.plot(loss_list, 'b', label='Training cost')\n",
        "    plt.plot(val_loss_list, 'r', label='Validation cost')\n",
        "    plt.ylabel('cost')\n",
        "    plt.xlabel('iterations')\n",
        "    plt.title('Training and validation cost')\n",
        "    plt.legend()\n",
        "\n",
        "    plt.figure()\n",
        "    \n",
        "    # plot the accuracy\n",
        "    plt.plot(accuracy_list, 'b', label='Training accuracy')\n",
        "    plt.plot(val_accuracy_list, 'r', label='Validation accuracy')\n",
        "    plt.ylabel('accuracy')\n",
        "    plt.xlabel('iterations')\n",
        "    plt.title('Training and validation accuracy')\n",
        "    plt.legend()"
      ]
    },
    {
      "cell_type": "code",
      "execution_count": null,
      "metadata": {
        "colab": {
          "base_uri": "https://localhost:8080/"
        },
        "id": "Crpe0lMNdsXE",
        "outputId": "b75cbbac-ecb8-47bf-8b01-81d2f74c177d"
      },
      "outputs": [
        {
          "output_type": "stream",
          "name": "stdout",
          "text": [
            "Model: \"sequential\"\n",
            "_________________________________________________________________\n",
            " Layer (type)                Output Shape              Param #   \n",
            "=================================================================\n",
            " dense (Dense)               (None, 128)               7808      \n",
            "                                                                 \n",
            " dense_1 (Dense)             (None, 256)               33024     \n",
            "                                                                 \n",
            " dense_2 (Dense)             (None, 256)               65792     \n",
            "                                                                 \n",
            " dense_3 (Dense)             (None, 256)               65792     \n",
            "                                                                 \n",
            " dense_4 (Dense)             (None, 256)               65792     \n",
            "                                                                 \n",
            " dense_5 (Dense)             (None, 9)                 2313      \n",
            "                                                                 \n",
            "=================================================================\n",
            "Total params: 240,521\n",
            "Trainable params: 240,521\n",
            "Non-trainable params: 0\n",
            "_________________________________________________________________\n"
          ]
        }
      ],
      "source": [
        "#Models being used as base learners\n",
        "#Model1 - \n",
        "mlp = Sequential()\n",
        "mlp.add(Dense(units=128, input_dim=X_train.shape[1], activation='relu'))\n",
        "mlp.add(Dense(256, activation='relu'))\n",
        "mlp.add(Dense(256, activation='relu'))\n",
        "mlp.add(Dense(256, activation='relu'))\n",
        "mlp.add(Dense(256, activation='relu'))\n",
        "mlp.add(Dense(9, activation='softmax'))\n",
        "mlp.summary()\n",
        "mlp.compile(optimizer='adam',\n",
        "            loss='categorical_crossentropy',\n",
        "            metrics=['accuracy', FalsePositiveRate(), tf.keras.metrics.Recall()]\n",
        "           )"
      ]
    },
    {
      "cell_type": "code",
      "execution_count": null,
      "metadata": {
        "colab": {
          "base_uri": "https://localhost:8080/"
        },
        "id": "6wStvvLqd7Y6",
        "outputId": "2162883c-397f-4a55-ee98-698be7ba9759"
      },
      "outputs": [
        {
          "output_type": "stream",
          "name": "stdout",
          "text": [
            "Model: \"sequential_1\"\n",
            "_________________________________________________________________\n",
            " Layer (type)                Output Shape              Param #   \n",
            "=================================================================\n",
            " dense_6 (Dense)             (None, 128)               7808      \n",
            "                                                                 \n",
            " dense_7 (Dense)             (None, 256)               33024     \n",
            "                                                                 \n",
            " dense_8 (Dense)             (None, 256)               65792     \n",
            "                                                                 \n",
            " dense_9 (Dense)             (None, 256)               65792     \n",
            "                                                                 \n",
            " dense_10 (Dense)            (None, 256)               65792     \n",
            "                                                                 \n",
            " dense_11 (Dense)            (None, 9)                 2313      \n",
            "                                                                 \n",
            "=================================================================\n",
            "Total params: 240,521\n",
            "Trainable params: 240,521\n",
            "Non-trainable params: 0\n",
            "_________________________________________________________________\n"
          ]
        }
      ],
      "source": [
        "#Model2 - \n",
        "mlp2 = Sequential()\n",
        "mlp2.add(Dense(units=128, input_dim=X_train.shape[1], activation='relu'))\n",
        "mlp2.add(Dense(256, activation='relu'))\n",
        "mlp2.add(Dense(256, activation='relu'))\n",
        "mlp2.add(Dense(256, activation='relu'))\n",
        "mlp2.add(Dense(256, activation='relu'))\n",
        "mlp2.add(Dense(9, activation='softmax'))\n",
        "mlp2.summary()\n",
        "mlp2.compile(optimizer='adam',\n",
        "            loss='categorical_crossentropy',\n",
        "            metrics=['accuracy', FalsePositiveRate(), tf.keras.metrics.Recall()]\n",
        "           )"
      ]
    },
    {
      "cell_type": "code",
      "execution_count": null,
      "metadata": {
        "colab": {
          "base_uri": "https://localhost:8080/"
        },
        "id": "fXF8I4bLeBEp",
        "outputId": "fa0a2e16-a457-45d1-fc0d-53ab6a556ec8"
      },
      "outputs": [
        {
          "output_type": "stream",
          "name": "stdout",
          "text": [
            "Model: \"sequential_2\"\n",
            "_________________________________________________________________\n",
            " Layer (type)                Output Shape              Param #   \n",
            "=================================================================\n",
            " dense_12 (Dense)            (None, 128)               7808      \n",
            "                                                                 \n",
            " dense_13 (Dense)            (None, 256)               33024     \n",
            "                                                                 \n",
            " dense_14 (Dense)            (None, 256)               65792     \n",
            "                                                                 \n",
            " dense_15 (Dense)            (None, 256)               65792     \n",
            "                                                                 \n",
            " dense_16 (Dense)            (None, 256)               65792     \n",
            "                                                                 \n",
            " dense_17 (Dense)            (None, 9)                 2313      \n",
            "                                                                 \n",
            "=================================================================\n",
            "Total params: 240,521\n",
            "Trainable params: 240,521\n",
            "Non-trainable params: 0\n",
            "_________________________________________________________________\n"
          ]
        }
      ],
      "source": [
        "#Model3 - \n",
        "mlp3 = Sequential()\n",
        "mlp3.add(Dense(units=128, input_dim=X_train.shape[1], activation='relu'))\n",
        "mlp3.add(Dense(256, activation='relu'))\n",
        "mlp3.add(Dense(256, activation='relu'))\n",
        "mlp3.add(Dense(256, activation='relu'))\n",
        "mlp3.add(Dense(256, activation='relu'))\n",
        "mlp3.add(Dense(9, activation='softmax'))\n",
        "mlp3.summary()\n",
        "mlp3.compile(optimizer='adam',\n",
        "            loss='categorical_crossentropy',\n",
        "            metrics=['accuracy', FalsePositiveRate(), tf.keras.metrics.Recall()]\n",
        "           )"
      ]
    },
    {
      "cell_type": "code",
      "execution_count": null,
      "metadata": {
        "colab": {
          "base_uri": "https://localhost:8080/"
        },
        "id": "jsSwuyTVeHcu",
        "outputId": "a98811cf-25ae-4114-d693-e0c662455610"
      },
      "outputs": [
        {
          "output_type": "stream",
          "name": "stdout",
          "text": [
            "Model: \"sequential_3\"\n",
            "_________________________________________________________________\n",
            " Layer (type)                Output Shape              Param #   \n",
            "=================================================================\n",
            " dense_18 (Dense)            (None, 128)               7808      \n",
            "                                                                 \n",
            " dense_19 (Dense)            (None, 256)               33024     \n",
            "                                                                 \n",
            " dense_20 (Dense)            (None, 256)               65792     \n",
            "                                                                 \n",
            " dense_21 (Dense)            (None, 256)               65792     \n",
            "                                                                 \n",
            " dense_22 (Dense)            (None, 9)                 2313      \n",
            "                                                                 \n",
            "=================================================================\n",
            "Total params: 174,729\n",
            "Trainable params: 174,729\n",
            "Non-trainable params: 0\n",
            "_________________________________________________________________\n"
          ]
        }
      ],
      "source": [
        "#Model4 - \n",
        "mlp4 = Sequential()\n",
        "mlp4.add(Dense(units=128, input_dim=X_train.shape[1], activation='relu'))\n",
        "mlp4.add(Dense(256, activation='relu'))\n",
        "mlp4.add(Dense(256, activation='relu'))\n",
        "mlp4.add(Dense(256, activation='relu'))\n",
        "mlp4.add(Dense(9, activation='softmax'))\n",
        "mlp4.summary()\n",
        "mlp4.compile(optimizer='adam',\n",
        "            loss='categorical_crossentropy',\n",
        "            metrics=['accuracy', FalsePositiveRate(), tf.keras.metrics.Recall()]\n",
        "           )"
      ]
    },
    {
      "cell_type": "code",
      "execution_count": null,
      "metadata": {
        "id": "lq2gddc3eMar"
      },
      "outputs": [],
      "source": [
        "grid_parameters = [\n",
        "    { #MLP\n",
        "        'batch_size' : [1000, 500, 100],\n",
        "        'epochs' : [80, 85, 90, 95, 100, 105, 110, 115, 120, 125],\n",
        "        'validation_split' : [0.2],\n",
        "        'verbose' : [0]\n",
        "    },\n",
        "    { #MLP2\n",
        "        'batch_size' : [1000, 500, 100],\n",
        "        'epochs' : [80, 85, 90, 95, 100, 105, 110, 115, 120, 125],\n",
        "        'validation_split' : [0.2],\n",
        "        'verbose' : [0]\n",
        "    }, \n",
        "    { #MLP3\n",
        "        'batch_size' : [1000, 500, 100],\n",
        "        'epochs' : [80, 85, 90, 95, 100, 105, 110, 115, 120, 125],\n",
        "        'validation_split' : [0.2],\n",
        "        'verbose' : [0]\n",
        "    },\n",
        "    { #MLP3\n",
        "        'batch_size' : [1000, 500, 100],\n",
        "        'epochs' : [80, 85, 90, 95, 100, 105, 110, 115, 120, 125],\n",
        "        'validation_split' : [0.2],\n",
        "        'verbose' : [0]\n",
        "    }\n",
        "]"
      ]
    },
    {
      "cell_type": "code",
      "execution_count": null,
      "metadata": {
        "colab": {
          "base_uri": "https://localhost:8080/"
        },
        "id": "eAihjC15X0ZR",
        "outputId": "40c25b34-823a-4b79-8331-7cc9bb00381d"
      },
      "outputs": [
        {
          "output_type": "execute_result",
          "data": {
            "text/plain": [
              "id                     int64\n",
              "dur                  float64\n",
              "spkts                float64\n",
              "dpkts                float64\n",
              "sbytes               float64\n",
              "dbytes               float64\n",
              "rate                 float64\n",
              "sttl                   int64\n",
              "dttl                   int64\n",
              "sload                float64\n",
              "dload                float64\n",
              "sloss                float64\n",
              "dloss                float64\n",
              "sinpkt               float64\n",
              "dinpkt               float64\n",
              "sjit                 float64\n",
              "djit                 float64\n",
              "swin                   int64\n",
              "stcpb                float64\n",
              "dtcpb                float64\n",
              "dwin                   int64\n",
              "tcprtt               float64\n",
              "synack               float64\n",
              "ackdat               float64\n",
              "smean                float64\n",
              "dmean                float64\n",
              "trans_depth            int64\n",
              "response_body_len      int64\n",
              "ct_srv_src             int64\n",
              "ct_state_ttl           int64\n",
              "ct_dst_ltm             int64\n",
              "ct_src_dport_ltm       int64\n",
              "ct_dst_sport_ltm       int64\n",
              "ct_dst_src_ltm         int64\n",
              "is_ftp_login           int64\n",
              "ct_ftp_cmd             int64\n",
              "ct_flw_http_mthd       int64\n",
              "ct_src_ltm             int64\n",
              "ct_srv_dst             int64\n",
              "is_sm_ips_ports        int64\n",
              "proto_tcp              uint8\n",
              "proto_udp              uint8\n",
              "service_dhcp           uint8\n",
              "service_dns            uint8\n",
              "service_ftp            uint8\n",
              "service_ftp-data       uint8\n",
              "service_http           uint8\n",
              "service_irc            uint8\n",
              "service_pop3           uint8\n",
              "service_radius         uint8\n",
              "service_smtp           uint8\n",
              "service_snmp           uint8\n",
              "service_ssh            uint8\n",
              "service_ssl            uint8\n",
              "state_ACC              uint8\n",
              "state_CON              uint8\n",
              "state_FIN              uint8\n",
              "state_INT              uint8\n",
              "state_REQ              uint8\n",
              "state_RST              uint8\n",
              "dtype: object"
            ]
          },
          "metadata": {},
          "execution_count": 44
        }
      ],
      "source": [
        "y_train.dtypes\n",
        "X_train.dtypes"
      ]
    },
    {
      "cell_type": "code",
      "execution_count": null,
      "metadata": {
        "colab": {
          "base_uri": "https://localhost:8080/"
        },
        "id": "ALSJ9xwPeWaw",
        "outputId": "aaa429ca-b671-4f56-8e90-b014a93f4c2f"
      },
      "outputs": [
        {
          "output_type": "stream",
          "name": "stdout",
          "text": [
            "Epoch 1/85\n",
            "75/75 [==============================] - 5s 43ms/step - loss: 395.1437 - accuracy: 0.3876 - false_positive_rate: 0.0764 - recall: 0.3874 - val_loss: 76.5982 - val_accuracy: 0.2320 - val_false_positive_rate: 0.0959 - val_recall: 0.2317\n",
            "Epoch 2/85\n",
            "75/75 [==============================] - 3s 38ms/step - loss: 64.6918 - accuracy: 0.4181 - false_positive_rate: 0.0724 - recall: 0.4168 - val_loss: 24.0939 - val_accuracy: 0.6133 - val_false_positive_rate: 0.0459 - val_recall: 0.6101\n",
            "Epoch 3/85\n",
            "75/75 [==============================] - 3s 38ms/step - loss: 28.0573 - accuracy: 0.4623 - false_positive_rate: 0.0664 - recall: 0.4601 - val_loss: 42.6772 - val_accuracy: 0.1915 - val_false_positive_rate: 0.1009 - val_recall: 0.1914\n",
            "Epoch 4/85\n",
            "75/75 [==============================] - 3s 38ms/step - loss: 14.2653 - accuracy: 0.5179 - false_positive_rate: 0.0583 - recall: 0.5107 - val_loss: 16.4571 - val_accuracy: 0.6782 - val_false_positive_rate: 0.0401 - val_recall: 0.6763\n",
            "Epoch 5/85\n",
            "75/75 [==============================] - 3s 38ms/step - loss: 6.9791 - accuracy: 0.6039 - false_positive_rate: 0.0448 - recall: 0.5837 - val_loss: 1.9874 - val_accuracy: 0.7767 - val_false_positive_rate: 0.0163 - val_recall: 0.7186\n",
            "Epoch 6/85\n",
            "75/75 [==============================] - 3s 38ms/step - loss: 1.7910 - accuracy: 0.8295 - false_positive_rate: 0.0126 - recall: 0.7182 - val_loss: 1.1804 - val_accuracy: 0.8235 - val_false_positive_rate: 0.0110 - val_recall: 0.7479\n",
            "Epoch 7/85\n",
            "75/75 [==============================] - 3s 38ms/step - loss: 1.6257 - accuracy: 0.8717 - false_positive_rate: 0.0103 - recall: 0.7503 - val_loss: 0.8032 - val_accuracy: 0.8658 - val_false_positive_rate: 0.0078 - val_recall: 0.7334\n",
            "Epoch 8/85\n",
            "75/75 [==============================] - 3s 38ms/step - loss: 4.5511 - accuracy: 0.6484 - false_positive_rate: 0.0398 - recall: 0.6195 - val_loss: 1.9406 - val_accuracy: 0.7217 - val_false_positive_rate: 0.0262 - val_recall: 0.6798\n",
            "Epoch 9/85\n",
            "75/75 [==============================] - 3s 39ms/step - loss: 1.6526 - accuracy: 0.8501 - false_positive_rate: 0.0132 - recall: 0.7545 - val_loss: 1.4752 - val_accuracy: 0.8817 - val_false_positive_rate: 0.0107 - val_recall: 0.7701\n",
            "Epoch 10/85\n",
            "75/75 [==============================] - 3s 38ms/step - loss: 1.0329 - accuracy: 0.8807 - false_positive_rate: 0.0113 - recall: 0.8084 - val_loss: 0.8456 - val_accuracy: 0.8721 - val_false_positive_rate: 0.0112 - val_recall: 0.8108\n",
            "Epoch 11/85\n",
            "75/75 [==============================] - 3s 38ms/step - loss: 7.1223 - accuracy: 0.6152 - false_positive_rate: 0.0452 - recall: 0.5977 - val_loss: 3.2373 - val_accuracy: 0.7042 - val_false_positive_rate: 0.0357 - val_recall: 0.6905\n",
            "Epoch 12/85\n",
            "75/75 [==============================] - 3s 38ms/step - loss: 5.6612 - accuracy: 0.6695 - false_positive_rate: 0.0390 - recall: 0.6500 - val_loss: 1.9989 - val_accuracy: 0.8031 - val_false_positive_rate: 0.0221 - val_recall: 0.7687\n",
            "Epoch 13/85\n",
            "75/75 [==============================] - 3s 38ms/step - loss: 1.0339 - accuracy: 0.8464 - false_positive_rate: 0.0136 - recall: 0.7548 - val_loss: 0.7904 - val_accuracy: 0.8876 - val_false_positive_rate: 0.0134 - val_recall: 0.7933\n",
            "Epoch 14/85\n",
            "75/75 [==============================] - 3s 38ms/step - loss: 1.1406 - accuracy: 0.8777 - false_positive_rate: 0.0123 - recall: 0.7970 - val_loss: 0.9960 - val_accuracy: 0.8848 - val_false_positive_rate: 0.0140 - val_recall: 0.8071\n",
            "Epoch 15/85\n",
            "75/75 [==============================] - 3s 39ms/step - loss: 0.9837 - accuracy: 0.8839 - false_positive_rate: 0.0113 - recall: 0.7911 - val_loss: 0.6935 - val_accuracy: 0.8859 - val_false_positive_rate: 0.0132 - val_recall: 0.8438\n",
            "Epoch 16/85\n",
            "75/75 [==============================] - 3s 39ms/step - loss: 0.7879 - accuracy: 0.8862 - false_positive_rate: 0.0118 - recall: 0.8318 - val_loss: 0.6677 - val_accuracy: 0.8855 - val_false_positive_rate: 0.0128 - val_recall: 0.8466\n",
            "Epoch 17/85\n",
            "75/75 [==============================] - 3s 39ms/step - loss: 0.7753 - accuracy: 0.8855 - false_positive_rate: 0.0117 - recall: 0.8320 - val_loss: 0.7120 - val_accuracy: 0.8803 - val_false_positive_rate: 0.0118 - val_recall: 0.8386\n",
            "Epoch 18/85\n",
            "75/75 [==============================] - 3s 39ms/step - loss: 0.6728 - accuracy: 0.8871 - false_positive_rate: 0.0119 - recall: 0.8483 - val_loss: 0.9803 - val_accuracy: 0.8846 - val_false_positive_rate: 0.0126 - val_recall: 0.8564\n",
            "Epoch 19/85\n",
            "75/75 [==============================] - 3s 39ms/step - loss: 1.6650 - accuracy: 0.7933 - false_positive_rate: 0.0221 - recall: 0.7592 - val_loss: 3.1235 - val_accuracy: 0.3049 - val_false_positive_rate: 0.0857 - val_recall: 0.2919\n",
            "Epoch 20/85\n",
            "75/75 [==============================] - 3s 38ms/step - loss: 4.6969 - accuracy: 0.6525 - false_positive_rate: 0.0410 - recall: 0.6316 - val_loss: 1.5167 - val_accuracy: 0.7887 - val_false_positive_rate: 0.0183 - val_recall: 0.7283\n",
            "Epoch 21/85\n",
            "75/75 [==============================] - 3s 40ms/step - loss: 0.7893 - accuracy: 0.8568 - false_positive_rate: 0.0127 - recall: 0.7983 - val_loss: 0.5653 - val_accuracy: 0.8781 - val_false_positive_rate: 0.0108 - val_recall: 0.8316\n",
            "Epoch 22/85\n",
            "75/75 [==============================] - 3s 38ms/step - loss: 0.6142 - accuracy: 0.8765 - false_positive_rate: 0.0110 - recall: 0.8336 - val_loss: 0.6101 - val_accuracy: 0.8680 - val_false_positive_rate: 0.0119 - val_recall: 0.8427\n",
            "Epoch 23/85\n",
            "75/75 [==============================] - 3s 39ms/step - loss: 0.5909 - accuracy: 0.8792 - false_positive_rate: 0.0110 - recall: 0.8482 - val_loss: 0.8208 - val_accuracy: 0.8268 - val_false_positive_rate: 0.0183 - val_recall: 0.8023\n",
            "Epoch 24/85\n",
            "75/75 [==============================] - 3s 38ms/step - loss: 4.0057 - accuracy: 0.7606 - false_positive_rate: 0.0267 - recall: 0.7377 - val_loss: 3.6929 - val_accuracy: 0.6657 - val_false_positive_rate: 0.0369 - val_recall: 0.6581\n",
            "Epoch 25/85\n",
            "75/75 [==============================] - 3s 38ms/step - loss: 1.6829 - accuracy: 0.5904 - false_positive_rate: 0.0327 - recall: 0.5225 - val_loss: 0.6747 - val_accuracy: 0.7646 - val_false_positive_rate: 0.0049 - val_recall: 0.6408\n",
            "Epoch 26/85\n",
            "75/75 [==============================] - 3s 38ms/step - loss: 0.5496 - accuracy: 0.8196 - false_positive_rate: 0.0032 - recall: 0.6900 - val_loss: 0.4995 - val_accuracy: 0.8747 - val_false_positive_rate: 0.0147 - val_recall: 0.8654\n",
            "Epoch 27/85\n",
            "75/75 [==============================] - 3s 38ms/step - loss: 0.4693 - accuracy: 0.8801 - false_positive_rate: 0.0143 - recall: 0.8722 - val_loss: 0.4562 - val_accuracy: 0.8809 - val_false_positive_rate: 0.0143 - val_recall: 0.8749\n",
            "Epoch 28/85\n",
            "75/75 [==============================] - 3s 39ms/step - loss: 0.4345 - accuracy: 0.8848 - false_positive_rate: 0.0139 - recall: 0.8805 - val_loss: 0.4339 - val_accuracy: 0.8834 - val_false_positive_rate: 0.0139 - val_recall: 0.8779\n",
            "Epoch 29/85\n",
            "75/75 [==============================] - 3s 41ms/step - loss: 0.4156 - accuracy: 0.8859 - false_positive_rate: 0.0139 - recall: 0.8830 - val_loss: 0.4346 - val_accuracy: 0.8800 - val_false_positive_rate: 0.0148 - val_recall: 0.8786\n",
            "Epoch 30/85\n",
            "75/75 [==============================] - 3s 39ms/step - loss: 0.4092 - accuracy: 0.8861 - false_positive_rate: 0.0139 - recall: 0.8834 - val_loss: 0.4137 - val_accuracy: 0.8844 - val_false_positive_rate: 0.0140 - val_recall: 0.8816\n",
            "Epoch 31/85\n",
            "75/75 [==============================] - 4s 50ms/step - loss: 0.4047 - accuracy: 0.8861 - false_positive_rate: 0.0139 - recall: 0.8837 - val_loss: 0.4290 - val_accuracy: 0.8839 - val_false_positive_rate: 0.0137 - val_recall: 0.8790\n",
            "Epoch 32/85\n",
            "75/75 [==============================] - 3s 39ms/step - loss: 0.6802 - accuracy: 0.8882 - false_positive_rate: 0.0136 - recall: 0.8851 - val_loss: 1.3030 - val_accuracy: 0.8872 - val_false_positive_rate: 0.0137 - val_recall: 0.8832\n",
            "Epoch 33/85\n",
            "75/75 [==============================] - 3s 38ms/step - loss: 1.1464 - accuracy: 0.8498 - false_positive_rate: 0.0181 - recall: 0.8446 - val_loss: 0.9626 - val_accuracy: 0.8674 - val_false_positive_rate: 0.0160 - val_recall: 0.8550\n",
            "Epoch 34/85\n",
            "75/75 [==============================] - 3s 39ms/step - loss: 0.7089 - accuracy: 0.8713 - false_positive_rate: 0.0155 - recall: 0.8658 - val_loss: 1.2076 - val_accuracy: 0.7930 - val_false_positive_rate: 0.0252 - val_recall: 0.7891\n",
            "Epoch 35/85\n",
            "75/75 [==============================] - 3s 38ms/step - loss: 1.4851 - accuracy: 0.4956 - false_positive_rate: 0.0198 - recall: 0.3316 - val_loss: 1.0737 - val_accuracy: 0.6470 - val_false_positive_rate: 0.0438 - val_recall: 0.6465\n",
            "Epoch 36/85\n",
            "75/75 [==============================] - 3s 39ms/step - loss: 1.0455 - accuracy: 0.6498 - false_positive_rate: 0.0433 - recall: 0.6474 - val_loss: 1.0534 - val_accuracy: 0.6470 - val_false_positive_rate: 0.0434 - val_recall: 0.6426\n",
            "Epoch 37/85\n",
            "75/75 [==============================] - 5s 61ms/step - loss: 1.0377 - accuracy: 0.6515 - false_positive_rate: 0.0429 - recall: 0.6491 - val_loss: 1.0544 - val_accuracy: 0.6468 - val_false_positive_rate: 0.0435 - val_recall: 0.6458\n",
            "Epoch 38/85\n",
            "75/75 [==============================] - 3s 39ms/step - loss: 1.0091 - accuracy: 0.6703 - false_positive_rate: 0.0377 - recall: 0.6530 - val_loss: 0.8294 - val_accuracy: 0.7770 - val_false_positive_rate: 0.0259 - val_recall: 0.7603\n",
            "Epoch 39/85\n",
            "75/75 [==============================] - 3s 38ms/step - loss: 1.0780 - accuracy: 0.6515 - false_positive_rate: 0.0421 - recall: 0.6452 - val_loss: 1.0578 - val_accuracy: 0.6467 - val_false_positive_rate: 0.0436 - val_recall: 0.6443\n",
            "Epoch 40/85\n",
            "75/75 [==============================] - 3s 39ms/step - loss: 1.0397 - accuracy: 0.6496 - false_positive_rate: 0.0432 - recall: 0.6467 - val_loss: 1.0585 - val_accuracy: 0.6479 - val_false_positive_rate: 0.0425 - val_recall: 0.6442\n",
            "Epoch 41/85\n",
            "75/75 [==============================] - 3s 39ms/step - loss: 1.1009 - accuracy: 0.6380 - false_positive_rate: 0.0424 - recall: 0.6179 - val_loss: 1.1747 - val_accuracy: 0.5896 - val_false_positive_rate: 0.0508 - val_recall: 0.5863\n",
            "Epoch 42/85\n",
            "75/75 [==============================] - 3s 39ms/step - loss: 1.1721 - accuracy: 0.6132 - false_positive_rate: 0.0321 - recall: 0.5711 - val_loss: 0.7006 - val_accuracy: 0.6501 - val_false_positive_rate: 0.0020 - val_recall: 0.6404\n",
            "Epoch 43/85\n",
            "75/75 [==============================] - 3s 39ms/step - loss: 1.1180 - accuracy: 0.5832 - false_positive_rate: 0.0187 - recall: 0.3779 - val_loss: 1.1372 - val_accuracy: 0.6351 - val_false_positive_rate: 0.0449 - val_recall: 0.6341\n",
            "Epoch 44/85\n",
            "75/75 [==============================] - 3s 39ms/step - loss: 1.1553 - accuracy: 0.6046 - false_positive_rate: 0.0486 - recall: 0.5952 - val_loss: 1.0960 - val_accuracy: 0.6466 - val_false_positive_rate: 0.0436 - val_recall: 0.6457\n",
            "Epoch 45/85\n",
            "75/75 [==============================] - 3s 39ms/step - loss: 1.2964 - accuracy: 0.5901 - false_positive_rate: 0.0494 - recall: 0.5803 - val_loss: 1.2486 - val_accuracy: 0.5243 - val_false_positive_rate: 0.0572 - val_recall: 0.5176\n",
            "Epoch 46/85\n",
            "75/75 [==============================] - 3s 39ms/step - loss: 1.2135 - accuracy: 0.5507 - false_positive_rate: 0.0556 - recall: 0.5455 - val_loss: 1.2270 - val_accuracy: 0.5398 - val_false_positive_rate: 0.0571 - val_recall: 0.5368\n",
            "Epoch 47/85\n",
            "75/75 [==============================] - 3s 39ms/step - loss: 1.2058 - accuracy: 0.5445 - false_positive_rate: 0.0566 - recall: 0.5428 - val_loss: 1.2069 - val_accuracy: 0.5511 - val_false_positive_rate: 0.0560 - val_recall: 0.5499\n",
            "Epoch 48/85\n",
            "75/75 [==============================] - 3s 39ms/step - loss: 1.1431 - accuracy: 0.5871 - false_positive_rate: 0.0513 - recall: 0.5852 - val_loss: 1.0663 - val_accuracy: 0.6358 - val_false_positive_rate: 0.0452 - val_recall: 0.6341\n",
            "Epoch 49/85\n",
            "75/75 [==============================] - 3s 39ms/step - loss: 1.0576 - accuracy: 0.6379 - false_positive_rate: 0.0449 - recall: 0.6358 - val_loss: 1.0589 - val_accuracy: 0.6375 - val_false_positive_rate: 0.0450 - val_recall: 0.6364\n",
            "Epoch 50/85\n",
            "75/75 [==============================] - 3s 39ms/step - loss: 1.0464 - accuracy: 0.6398 - false_positive_rate: 0.0448 - recall: 0.6382 - val_loss: 1.0570 - val_accuracy: 0.6375 - val_false_positive_rate: 0.0448 - val_recall: 0.6336\n",
            "Epoch 51/85\n",
            "75/75 [==============================] - 3s 39ms/step - loss: 1.0460 - accuracy: 0.6399 - false_positive_rate: 0.0448 - recall: 0.6380 - val_loss: 1.0588 - val_accuracy: 0.6373 - val_false_positive_rate: 0.0452 - val_recall: 0.6356\n",
            "Epoch 52/85\n",
            "75/75 [==============================] - 3s 39ms/step - loss: 1.0460 - accuracy: 0.6396 - false_positive_rate: 0.0448 - recall: 0.6381 - val_loss: 1.0576 - val_accuracy: 0.6381 - val_false_positive_rate: 0.0451 - val_recall: 0.6369\n",
            "Epoch 53/85\n",
            "75/75 [==============================] - 3s 39ms/step - loss: 1.0456 - accuracy: 0.6399 - false_positive_rate: 0.0448 - recall: 0.6385 - val_loss: 1.0564 - val_accuracy: 0.6380 - val_false_positive_rate: 0.0451 - val_recall: 0.6376\n",
            "Epoch 54/85\n",
            "75/75 [==============================] - 3s 41ms/step - loss: 1.0457 - accuracy: 0.6398 - false_positive_rate: 0.0448 - recall: 0.6382 - val_loss: 1.0569 - val_accuracy: 0.6379 - val_false_positive_rate: 0.0451 - val_recall: 0.6372\n",
            "Epoch 55/85\n",
            "75/75 [==============================] - 3s 39ms/step - loss: 1.0451 - accuracy: 0.6401 - false_positive_rate: 0.0447 - recall: 0.6384 - val_loss: 1.0561 - val_accuracy: 0.6381 - val_false_positive_rate: 0.0448 - val_recall: 0.6346\n",
            "Epoch 56/85\n",
            "75/75 [==============================] - 3s 39ms/step - loss: 1.0445 - accuracy: 0.6401 - false_positive_rate: 0.0448 - recall: 0.6385 - val_loss: 1.0560 - val_accuracy: 0.6381 - val_false_positive_rate: 0.0449 - val_recall: 0.6358\n",
            "Epoch 57/85\n",
            "75/75 [==============================] - 3s 39ms/step - loss: 1.0446 - accuracy: 0.6402 - false_positive_rate: 0.0447 - recall: 0.6388 - val_loss: 1.0585 - val_accuracy: 0.6364 - val_false_positive_rate: 0.0451 - val_recall: 0.6343\n",
            "Epoch 58/85\n",
            "75/75 [==============================] - 3s 39ms/step - loss: 1.0447 - accuracy: 0.6400 - false_positive_rate: 0.0448 - recall: 0.6386 - val_loss: 1.0560 - val_accuracy: 0.6380 - val_false_positive_rate: 0.0449 - val_recall: 0.6361\n",
            "Epoch 59/85\n",
            "75/75 [==============================] - 3s 40ms/step - loss: 1.0441 - accuracy: 0.6402 - false_positive_rate: 0.0448 - recall: 0.6390 - val_loss: 1.0561 - val_accuracy: 0.6378 - val_false_positive_rate: 0.0451 - val_recall: 0.6366\n",
            "Epoch 60/85\n",
            "75/75 [==============================] - 3s 41ms/step - loss: 1.0440 - accuracy: 0.6402 - false_positive_rate: 0.0447 - recall: 0.6386 - val_loss: 1.0570 - val_accuracy: 0.6373 - val_false_positive_rate: 0.0449 - val_recall: 0.6344\n",
            "Epoch 61/85\n",
            "75/75 [==============================] - 3s 43ms/step - loss: 1.0439 - accuracy: 0.6403 - false_positive_rate: 0.0447 - recall: 0.6385 - val_loss: 1.0558 - val_accuracy: 0.6383 - val_false_positive_rate: 0.0450 - val_recall: 0.6378\n",
            "Epoch 62/85\n",
            "75/75 [==============================] - 3s 43ms/step - loss: 1.0451 - accuracy: 0.6401 - false_positive_rate: 0.0448 - recall: 0.6389 - val_loss: 1.0597 - val_accuracy: 0.6360 - val_false_positive_rate: 0.0453 - val_recall: 0.6348\n",
            "Epoch 63/85\n",
            "75/75 [==============================] - 3s 43ms/step - loss: 1.0470 - accuracy: 0.6397 - false_positive_rate: 0.0448 - recall: 0.6384 - val_loss: 1.0553 - val_accuracy: 0.6381 - val_false_positive_rate: 0.0450 - val_recall: 0.6365\n",
            "Epoch 64/85\n",
            "75/75 [==============================] - 3s 43ms/step - loss: 1.0455 - accuracy: 0.6397 - false_positive_rate: 0.0448 - recall: 0.6379 - val_loss: 1.0595 - val_accuracy: 0.6361 - val_false_positive_rate: 0.0452 - val_recall: 0.6340\n",
            "Epoch 65/85\n",
            "75/75 [==============================] - 3s 43ms/step - loss: 1.0457 - accuracy: 0.6397 - false_positive_rate: 0.0449 - recall: 0.6385 - val_loss: 1.0583 - val_accuracy: 0.6362 - val_false_positive_rate: 0.0451 - val_recall: 0.6343\n",
            "Epoch 66/85\n",
            "75/75 [==============================] - 3s 40ms/step - loss: 1.0459 - accuracy: 0.6393 - false_positive_rate: 0.0449 - recall: 0.6381 - val_loss: 1.0592 - val_accuracy: 0.6361 - val_false_positive_rate: 0.0454 - val_recall: 0.6359\n",
            "Epoch 67/85\n",
            "75/75 [==============================] - 3s 39ms/step - loss: 1.0460 - accuracy: 0.6396 - false_positive_rate: 0.0449 - recall: 0.6378 - val_loss: 1.0585 - val_accuracy: 0.6363 - val_false_positive_rate: 0.0453 - val_recall: 0.6354\n",
            "Epoch 68/85\n",
            "75/75 [==============================] - 3s 40ms/step - loss: 1.0720 - accuracy: 0.6320 - false_positive_rate: 0.0458 - recall: 0.6303 - val_loss: 1.2623 - val_accuracy: 0.5375 - val_false_positive_rate: 0.0567 - val_recall: 0.5243\n",
            "Epoch 69/85\n",
            "75/75 [==============================] - 3s 39ms/step - loss: 31.1783 - accuracy: 0.5227 - false_positive_rate: 0.0589 - recall: 0.5145 - val_loss: 116.1082 - val_accuracy: 0.1040 - val_false_positive_rate: 0.1116 - val_recall: 0.1036\n",
            "Epoch 70/85\n",
            "75/75 [==============================] - 3s 39ms/step - loss: 44.6768 - accuracy: 0.4800 - false_positive_rate: 0.0639 - recall: 0.4683 - val_loss: 1.3671 - val_accuracy: 0.5815 - val_false_positive_rate: 0.0502 - val_recall: 0.5254\n",
            "Epoch 71/85\n",
            "75/75 [==============================] - 3s 39ms/step - loss: 1.2665 - accuracy: 0.6248 - false_positive_rate: 0.0401 - recall: 0.5847 - val_loss: 1.4782 - val_accuracy: 0.5216 - val_false_positive_rate: 0.0590 - val_recall: 0.5171\n",
            "Epoch 72/85\n",
            "75/75 [==============================] - 3s 39ms/step - loss: 1.2431 - accuracy: 0.5299 - false_positive_rate: 0.0511 - recall: 0.4648 - val_loss: 1.2294 - val_accuracy: 0.5368 - val_false_positive_rate: 0.0577 - val_recall: 0.5318\n",
            "Epoch 73/85\n",
            "75/75 [==============================] - 3s 39ms/step - loss: 1.2109 - accuracy: 0.5449 - false_positive_rate: 0.0565 - recall: 0.5420 - val_loss: 1.2327 - val_accuracy: 0.5313 - val_false_positive_rate: 0.0584 - val_recall: 0.5288\n",
            "Epoch 74/85\n",
            "75/75 [==============================] - 3s 40ms/step - loss: 1.2121 - accuracy: 0.5425 - false_positive_rate: 0.0569 - recall: 0.5381 - val_loss: 1.2157 - val_accuracy: 0.5510 - val_false_positive_rate: 0.0558 - val_recall: 0.5492\n",
            "Epoch 75/85\n",
            "75/75 [==============================] - 3s 41ms/step - loss: 1.2124 - accuracy: 0.5588 - false_positive_rate: 0.0545 - recall: 0.5544 - val_loss: 1.2586 - val_accuracy: 0.5186 - val_false_positive_rate: 0.0599 - val_recall: 0.5182\n",
            "Epoch 76/85\n",
            "75/75 [==============================] - 3s 41ms/step - loss: 1.2360 - accuracy: 0.5262 - false_positive_rate: 0.0587 - recall: 0.5246 - val_loss: 1.2315 - val_accuracy: 0.5382 - val_false_positive_rate: 0.0570 - val_recall: 0.5316\n",
            "Epoch 77/85\n",
            "75/75 [==============================] - 3s 40ms/step - loss: 1.1992 - accuracy: 0.5544 - false_positive_rate: 0.0551 - recall: 0.5462 - val_loss: 1.2297 - val_accuracy: 0.6526 - val_false_positive_rate: 0.0431 - val_recall: 0.6510\n",
            "Epoch 78/85\n",
            "75/75 [==============================] - 3s 40ms/step - loss: 1.1954 - accuracy: 0.5663 - false_positive_rate: 0.0524 - recall: 0.5549 - val_loss: 1.1813 - val_accuracy: 0.5677 - val_false_positive_rate: 0.0534 - val_recall: 0.5663\n",
            "Epoch 79/85\n",
            "75/75 [==============================] - 3s 41ms/step - loss: 1.0852 - accuracy: 0.6220 - false_positive_rate: 0.0468 - recall: 0.6202 - val_loss: 1.0613 - val_accuracy: 0.6354 - val_false_positive_rate: 0.0452 - val_recall: 0.6339\n",
            "Epoch 80/85\n",
            "75/75 [==============================] - 3s 41ms/step - loss: 1.0508 - accuracy: 0.6383 - false_positive_rate: 0.0449 - recall: 0.6368 - val_loss: 1.0618 - val_accuracy: 0.6366 - val_false_positive_rate: 0.0454 - val_recall: 0.6364\n",
            "Epoch 81/85\n",
            "75/75 [==============================] - 3s 43ms/step - loss: 1.1024 - accuracy: 0.6163 - false_positive_rate: 0.0476 - recall: 0.6150 - val_loss: 1.0936 - val_accuracy: 0.6195 - val_false_positive_rate: 0.0474 - val_recall: 0.6183\n",
            "Epoch 82/85\n",
            "75/75 [==============================] - 3s 42ms/step - loss: 1.0524 - accuracy: 0.6372 - false_positive_rate: 0.0451 - recall: 0.6357 - val_loss: 1.0605 - val_accuracy: 0.6358 - val_false_positive_rate: 0.0453 - val_recall: 0.6345\n",
            "Epoch 83/85\n",
            "75/75 [==============================] - 3s 42ms/step - loss: 1.0486 - accuracy: 0.6383 - false_positive_rate: 0.0450 - recall: 0.6368 - val_loss: 1.0595 - val_accuracy: 0.6361 - val_false_positive_rate: 0.0453 - val_recall: 0.6348\n",
            "Epoch 84/85\n",
            "75/75 [==============================] - 3s 44ms/step - loss: 1.0483 - accuracy: 0.6383 - false_positive_rate: 0.0450 - recall: 0.6368 - val_loss: 1.0601 - val_accuracy: 0.6359 - val_false_positive_rate: 0.0454 - val_recall: 0.6353\n",
            "Epoch 85/85\n",
            "75/75 [==============================] - 3s 43ms/step - loss: 1.0476 - accuracy: 0.6385 - false_positive_rate: 0.0450 - recall: 0.6368 - val_loss: 1.0588 - val_accuracy: 0.6358 - val_false_positive_rate: 0.0452 - val_recall: 0.6326\n"
          ]
        }
      ],
      "source": [
        "y_train = tf.keras.utils.to_categorical(y_train, 9)\n",
        "history = mlp.fit(x=X_train,y=y_train,batch_size=1000,epochs=85,validation_split = 0.2).history\n",
        "\n",
        "h2 = mlp2.fit(x=X_train,\n",
        "                  y=y_train,\n",
        "                  batch_size=1000,\n",
        "                  epochs=118,validation_split = 0.2,\n",
        "                  verbose=0).history\n",
        "\n",
        "h3 = mlp3.fit(x=X_train,\n",
        "                  y=y_train,\n",
        "                  batch_size=1000,\n",
        "                  epochs=90,validation_split = 0.2,\n",
        "                  verbose=0).history\n",
        "\n",
        "h4 = mlp4.fit(x=X_train,\n",
        "                  y=y_train,\n",
        "                  batch_size=1000,\n",
        "                  epochs=75,validation_split = 0.2,\n",
        "                  verbose=0).history"
      ]
    },
    {
      "cell_type": "code",
      "execution_count": null,
      "metadata": {
        "id": "rXY28gl7eaII",
        "colab": {
          "base_uri": "https://localhost:8080/"
        },
        "outputId": "9eb370b7-a350-4b64-cc1e-e210d6b4b23b"
      },
      "outputs": [
        {
          "output_type": "stream",
          "name": "stdout",
          "text": [
            "728/728 [==============================] - 2s 3ms/step - loss: 1.0488 - accuracy: 0.6410 - false_positive_rate: 0.0445 - recall: 0.6385\n",
            "Test results1 -  Accuracy: 64.0969455242157\n",
            "728/728 [==============================] - 2s 3ms/step - loss: 0.3930 - accuracy: 0.8878 - false_positive_rate: 0.0099 - recall_1: 0.8665\n",
            "Test results2 -  Accuracy: 88.78432512283325\n",
            "728/728 [==============================] - 2s 3ms/step - loss: 1.1039 - accuracy: 0.6443 - false_positive_rate: 0.0438 - recall_2: 0.6411\n",
            "Test results3 -  Accuracy: 64.42782878875732\n",
            "728/728 [==============================] - 2s 3ms/step - loss: 0.3863 - accuracy: 0.8839 - false_positive_rate: 0.0130 - recall_3: 0.8762\n",
            "Test results4 -  Accuracy: 88.38897943496704\n"
          ]
        }
      ],
      "source": [
        "y_test = tf.keras.utils.to_categorical(y_test, 9)\n",
        "test_results1 = mlp.evaluate(X_test, y_test, verbose=1)\n",
        "print(f'Test results1 -  Accuracy: {test_results1[1]*100}')\n",
        "test_results2 = mlp2.evaluate(X_test, y_test, verbose=1)\n",
        "print(f'Test results2 -  Accuracy: {test_results2[1]*100}')\n",
        "test_results3 = mlp3.evaluate(X_test, y_test, verbose=1)\n",
        "print(f'Test results3 -  Accuracy: {test_results3[1]*100}')\n",
        "test_results4 = mlp4.evaluate(X_test, y_test, verbose=1)\n",
        "print(f'Test results4 -  Accuracy: {test_results4[1]*100}')"
      ]
    },
    {
      "cell_type": "code",
      "execution_count": null,
      "metadata": {
        "id": "_dyT3lcPfOXd",
        "colab": {
          "base_uri": "https://localhost:8080/",
          "height": 1000
        },
        "outputId": "695a10f3-2410-41b6-e57d-87dd957ff105"
      },
      "outputs": [
        {
          "output_type": "stream",
          "name": "stdout",
          "text": [
            "MODEL - 1\n"
          ]
        },
        {
          "output_type": "display_data",
          "data": {
            "text/plain": [
              "<Figure size 432x288 with 1 Axes>"
            ],
            "image/png": "[encoded data removed]"
          },
          "metadata": {
            "needs_background": "light"
          }
        },
        {
          "output_type": "display_data",
          "data": {
            "text/plain": [
              "<Figure size 432x288 with 2 Axes>"
            ],
            "image/png": "[encoded data removed]"
          },
          "metadata": {
            "needs_background": "light"
          }
        },
        {
          "output_type": "stream",
          "name": "stdout",
          "text": [
            "MODEL - 2\n"
          ]
        },
        {
          "output_type": "display_data",
          "data": {
            "text/plain": [
              "<Figure size 432x288 with 1 Axes>"
            ],
            "image/png": "[encoded data removed]"
          },
          "metadata": {
            "needs_background": "light"
          }
        },
        {
          "output_type": "display_data",
          "data": {
            "text/plain": [
              "<Figure size 432x288 with 1 Axes>"
            ],
            "image/png": "[encoded data removed]"
          },
          "metadata": {
            "needs_background": "light"
          }
        },
        {
          "output_type": "display_data",
          "data": {
            "text/plain": [
              "<Figure size 432x288 with 1 Axes>"
            ],
            "image/png": "[encoded data removed]"
          },
          "metadata": {
            "needs_background": "light"
          }
        },
        {
          "output_type": "display_data",
          "data": {
            "text/plain": [
              "<Figure size 432x288 with 2 Axes>"
            ],
            "image/png": "[encoded data removed]"
          },
          "metadata": {
            "needs_background": "light"
          }
        },
        {
          "output_type": "stream",
          "name": "stdout",
          "text": [
            "MODEL - 3\n"
          ]
        },
        {
          "output_type": "display_data",
          "data": {
            "text/plain": [
              "<Figure size 432x288 with 1 Axes>"
            ],
            "image/png": "[encoded data removed]"
          },
          "metadata": {
            "needs_background": "light"
          }
        },
        {
          "output_type": "display_data",
          "data": {
            "text/plain": [
              "<Figure size 432x288 with 1 Axes>"
            ],
            "image/png": "[encoded data removed]"
          },
          "metadata": {
            "needs_background": "light"
          }
        },
        {
          "output_type": "display_data",
          "data": {
            "text/plain": [
              "<Figure size 432x288 with 1 Axes>"
            ],
            "image/png": "[encoded data removed]"
          },
          "metadata": {
            "needs_background": "light"
          }
        },
        {
          "output_type": "display_data",
          "data": {
            "text/plain": [
              "<Figure size 432x288 with 2 Axes>"
            ],
            "image/png": "[encoded data removed]"
          },
          "metadata": {
            "needs_background": "light"
          }
        },
        {
          "output_type": "stream",
          "name": "stdout",
          "text": [
            "MODEL - 4\n"
          ]
        },
        {
          "output_type": "display_data",
          "data": {
            "text/plain": [
              "<Figure size 432x288 with 1 Axes>"
            ],
            "image/png": "[encoded data removed]"
          },
          "metadata": {
            "needs_background": "light"
          }
        },
        {
          "output_type": "display_data",
          "data": {
            "text/plain": [
              "<Figure size 432x288 with 1 Axes>"
            ],
            "image/png": "[encoded data removed]"
          },
          "metadata": {
            "needs_background": "light"
          }
        },
        {
          "output_type": "display_data",
          "data": {
            "text/plain": [
              "<Figure size 432x288 with 1 Axes>"
            ],
            "image/png": "[encoded data removed]"
          },
          "metadata": {
            "needs_background": "light"
          }
        },
        {
          "output_type": "display_data",
          "data": {
            "text/plain": [
              "<Figure size 432x288 with 2 Axes>"
            ],
            "image/png": "[encoded data removed]"
          },
          "metadata": {
            "needs_background": "light"
          }
        },
        {
          "output_type": "display_data",
          "data": {
            "text/plain": [
              "<Figure size 432x288 with 1 Axes>"
            ],
            "image/png": "[encoded data removed]"
          },
          "metadata": {
            "needs_background": "light"
          }
        },
        {
          "output_type": "display_data",
          "data": {
            "text/plain": [
              "<Figure size 432x288 with 1 Axes>"
            ],
            "image/png": "[encoded data removed]"
          },
          "metadata": {
            "needs_background": "light"
          }
        }
      ],
      "source": [
        "#Graphs\n",
        "print(\"MODEL - 1\")\n",
        "plot_loss(history)\n",
        "plot_model_recall_fpr(history)\n",
        "plot_train_history(history)\n",
        "print(\"MODEL - 2\")\n",
        "plot_loss(h2)\n",
        "plot_model_recall_fpr(h2)\n",
        "plot_train_history(h2)\n",
        "print(\"MODEL - 3\")\n",
        "plot_loss(h3)\n",
        "plot_model_recall_fpr(h3)\n",
        "plot_train_history(h3)\n",
        "print(\"MODEL - 4\")\n",
        "plot_loss(h4)\n",
        "plot_model_recall_fpr(h4)\n",
        "plot_train_history(h4)"
      ]
    },
    {
      "cell_type": "code",
      "execution_count": null,
      "metadata": {
        "id": "STdb2399gCSB"
      },
      "outputs": [],
      "source": [
        "mlp.save('model1.h5')"
      ]
    },
    {
      "cell_type": "code",
      "execution_count": null,
      "metadata": {
        "id": "6hY_DJ9OgC8Q"
      },
      "outputs": [],
      "source": [
        "mlp2.save('model2.h5')"
      ]
    },
    {
      "cell_type": "code",
      "execution_count": null,
      "metadata": {
        "id": "OJNWiMWXgE7L"
      },
      "outputs": [],
      "source": [
        "mlp3.save('model3.h5')"
      ]
    },
    {
      "cell_type": "code",
      "execution_count": null,
      "metadata": {
        "id": "hWUkT818gGxw"
      },
      "outputs": [],
      "source": [
        "mlp4.save('model4.h5')"
      ]
    },
    {
      "cell_type": "code",
      "execution_count": null,
      "metadata": {
        "id": "a3Oxu8gygJf1"
      },
      "outputs": [],
      "source": [
        "def load_all_models(n_models):\n",
        "\tall_models = list()\n",
        "\tfor i in range(n_models):\n",
        "\t\t# Specify the filename\n",
        "\t\tfilename = '/content/model' + str(i + 1) + '.h5'\n",
        "\t\t# load the model \n",
        "\t\tmodel = load_model(filename,custom_objects=dependencies)\n",
        "\t\t# Add a list of all the weaker learners\n",
        "\t\tall_models.append(model)\n",
        "\t\tprint('>loaded %s' % filename)\n",
        "\treturn all_models"
      ]
    },
    {
      "cell_type": "code",
      "execution_count": null,
      "metadata": {
        "id": "4JdPFeOsgLwS",
        "colab": {
          "base_uri": "https://localhost:8080/"
        },
        "outputId": "b9e52a53-eebb-4d17-e909-cf44ab05c900"
      },
      "outputs": [
        {
          "output_type": "stream",
          "name": "stdout",
          "text": [
            ">loaded /content/model1.h5\n",
            ">loaded /content/model2.h5\n",
            ">loaded /content/model3.h5\n",
            ">loaded /content/model4.h5\n",
            "Loaded 4 models\n"
          ]
        }
      ],
      "source": [
        "dependencies = {'FalsePositiveRate': FalsePositiveRate}\n",
        "\n",
        "n_members = 4\n",
        "members = load_all_models(n_members)\n",
        "print('Loaded %d models' % len(members))"
      ]
    }
  ],
  "metadata": {
    "colab": {
      "name": " Multiclass.ipynb",
      "provenance": []
    },
    "kernelspec": {
      "display_name": "Python 3",
      "name": "python3"
    },
    "language_info": {
      "name": "python"
    }
  },
  "nbformat": 4,
  "nbformat_minor": 0
}